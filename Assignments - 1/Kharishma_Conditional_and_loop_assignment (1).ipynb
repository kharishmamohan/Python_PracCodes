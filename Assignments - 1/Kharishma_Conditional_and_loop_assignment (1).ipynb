{
 "cells": [
  {
   "cell_type": "markdown",
   "metadata": {
    "colab_type": "text",
    "id": "wNRNTbrsc53d"
   },
   "source": [
    "# If - elif - else statement"
   ]
  },
  {
   "cell_type": "code",
   "execution_count": 5,
   "metadata": {
    "colab": {},
    "colab_type": "code",
    "id": "MiPfTnBycxNa"
   },
   "outputs": [
    {
     "name": "stdout",
     "output_type": "stream",
     "text": [
      "Enter the number from 0 to 9: 0\n",
      "***Zero***\n"
     ]
    }
   ],
   "source": [
    "#W. A P. which takes one number from 0 to 9 from the user and prints it in the word. And if the word is not from 0 to 9 then\n",
    "#it should print that number is outside of the range and program should exit.\n",
    "# For exapmple:- \n",
    "# input = 1\n",
    "# output = one\n",
    "\n",
    "num = int(input('Enter the number from 0 to 9: '))\n",
    "if num == 0: \n",
    "    print(\"***Zero***\") \n",
    "elif num == 1: \n",
    "    print(\"***One***\") \n",
    "elif num == 2: \n",
    "    print(\"***Two***\") \n",
    "elif num == 3: \n",
    "    print(\"***Three***\") \n",
    "elif num == 4: \n",
    "    print(\"***Four***\") \n",
    "elif num == 5: \n",
    "    print(\"***five***\") \n",
    "elif num == 6: \n",
    "    print(\"***Six***\") \n",
    "elif num == 7: \n",
    "    print(\"***Seven***\") \n",
    "elif num == 8: \n",
    "    print(\"***Eight***\") \n",
    "elif num == 9: \n",
    "    print(\"***Nine***\")\n",
    "else :\n",
    "    print(\"This is out of range\")\n",
    "\n"
   ]
  },
  {
   "cell_type": "code",
   "execution_count": 11,
   "metadata": {
    "colab": {},
    "colab_type": "code",
    "id": "vEMNOv9zdA39"
   },
   "outputs": [
    {
     "name": "stdout",
     "output_type": "stream",
     "text": [
      "enter the number7\n",
      "enter the number7\n",
      "select from the below options:-\n",
      "> To add enter 1\n",
      "> To subtract enter 2 \n",
      "> To multiply enter 3 \n",
      "> To divide enter 4\n",
      "> To divide and find quotient enter 5 \n",
      "> To divide and find remainder enter 6\n",
      "> To divide and find num1 to the power of num2 enter 7\n",
      "> To Come out of the program enter 8\n",
      "5\n",
      "the qoutient of a and b is: 1.0\n"
     ]
    }
   ],
   "source": [
    "#W. A P. to implement calculator but the operation to be done and two numbers will be taken as input from user:-\n",
    "#Operation console should show below:-\n",
    "#     Please select any one operation from below:-\n",
    "#         * To add enter 1\n",
    "#         * to subtract enter 2\n",
    "#         * To multiply enter 3\n",
    "#         * To divide enter 4\n",
    "#         * To divide and find quotient enter 5\n",
    "#         * To divide and find remainder enter 6\n",
    "#         * To divide and find num1 to the power of num2 enter 7\n",
    "#         * To Come out of the program enter 8\n",
    "\n",
    "a=int(input('enter the number'))\n",
    "b=int(input('enter the number'))\n",
    "print('''select from the below options:-\n",
    "> To add enter 1\n",
    "> To subtract enter 2 \n",
    "> To multiply enter 3 \n",
    "> To divide enter 4\n",
    "> To divide and find quotient enter 5 \n",
    "> To divide and find remainder enter 6\n",
    "> To divide and find num1 to the power of num2 enter 7\n",
    "> To Come out of the program enter 8''')\n",
    "\n",
    "x = int(input())\n",
    "if (x==1):\n",
    "   sum =a+b\n",
    "   print('the sum of a and b is:',sum)\n",
    "elif x==2:   \n",
    "    difference=a-b\n",
    "    print('the difference of a and b is:',difference)\n",
    "elif (x==3):\n",
    "  multiply=a*b\n",
    "  print('the multiply of a and b is:',multiply)\n",
    "elif (x==4):\n",
    "  division=a/b\n",
    "  print('the division of a and b is:',division)\n",
    "elif (x==5):\n",
    "   qoutient=a/b \n",
    "   print('the qoutient of a and b is:',qoutient)\n",
    "elif (x==6):\n",
    "  remainder=(a%b)\n",
    "  print('the remainder of a and b is:',remainder)\n",
    "elif (x==7):\n",
    "  expo=a**b\n",
    "  print('the exponential of a and b is:',expo)\n",
    "elif x == 8:\n",
    "    print('To Come out of the program enter 8')\n",
    "    print('successfully came out')\n",
    "else:\n",
    "    print('''Input not in range\n",
    "Try between 1 to 8.''')\n"
   ]
  },
  {
   "cell_type": "code",
   "execution_count": 15,
   "metadata": {
    "colab": {},
    "colab_type": "code",
    "id": "1e2gwYLqdC1s"
   },
   "outputs": [
    {
     "name": "stdout",
     "output_type": "stream",
     "text": [
      "Enter the year: 2004\n",
      "2004 is a leap year\n"
     ]
    }
   ],
   "source": [
    "#W A P to check whether a year entered by user is an leap year or not?\n",
    "#Check with below input:-\n",
    "    #leap year:- 2012, 1968, 2004, 1200, 1600,2400\n",
    "    #Non-lear year:- 1971, 2006, 1700,1800,1900\n",
    "    \n",
    "    #Non-lear year:- 1971, 2006, 1700,1800,1900\n",
    "a=int(input('Enter the year: '))\n",
    "if ((a%4==0)and (a!=100)) or (a==400):\n",
    "       print(a,'is a leap year')\n",
    "else:\n",
    "      print(a,'is not a leap year')"
   ]
  },
  {
   "cell_type": "code",
   "execution_count": 14,
   "metadata": {
    "colab": {},
    "colab_type": "code",
    "id": "_tpXv1EtdEre"
   },
   "outputs": [
    {
     "name": "stdout",
     "output_type": "stream",
     "text": [
      "Enter the number:5\n",
      "5 is a odd number\n"
     ]
    }
   ],
   "source": [
    "#W A P which takes one number from the user and checks whether it is an even or odd number?, If it even then prints number is \n",
    "#even number else prints that number is odd number.\n",
    "\n",
    "x=int(input('Enter the number:'))\n",
    "if (x%2==0) or (x==0):\n",
    "   print(x,'is an even number')\n",
    "else:\n",
    "   print(x,'is a odd number')\n"
   ]
  },
  {
   "cell_type": "code",
   "execution_count": 16,
   "metadata": {
    "colab": {},
    "colab_type": "code",
    "id": "Q1HumymCdG6i"
   },
   "outputs": [
    {
     "name": "stdout",
     "output_type": "stream",
     "text": [
      "Enter the number:50\n",
      "Enter the number:70\n",
      "70 is greater than 50\n"
     ]
    }
   ],
   "source": [
    "#W A P which takes two numbers from the user and prints below output:-\n",
    "#     1. num1 is greater than num2 if num1 is greater than num2\n",
    "#     2. num1 is smaller than num2 if num1 is smaller than num2\n",
    "#     3. num1 is equal to num2 if num1 and num2 are equal\n",
    "\n",
    "#Note:- 1. Do this problem using if - else \n",
    "#       2. Do this using ternary operator\n",
    "\n",
    "num1=int(input('Enter the number:'))\n",
    "num2=int(input('Enter the number:'))\n",
    "if (num1>num2):\n",
    "  print(num1,\"is greater than\",num2)\n",
    "else:\n",
    "  print(num2,\"is greater than\",num1)\n"
   ]
  },
  {
   "cell_type": "code",
   "execution_count": 20,
   "metadata": {
    "colab": {},
    "colab_type": "code",
    "id": "LR6TVB-DdOPf"
   },
   "outputs": [
    {
     "name": "stdout",
     "output_type": "stream",
     "text": [
      "Enter the number: 5\n",
      "Enter the number: 6\n",
      "Enter the number: 7\n",
      "7 is greater than 6\n"
     ]
    }
   ],
   "source": [
    "#W A P which takes three numbers from the user and prints below output:-\n",
    "#     1. num1 is greater than num2 and num3 if num1 is greater than num2 and num3\n",
    "#     2. num2 is greater than num1 and num3 if num2 is greater than num1 and num3\n",
    "#     3. num3 is greater than num1 and num2 if num3 is greater than num1 and num2\n",
    "\n",
    "#Note:- 1. Do this problem using if - elif - else \n",
    "#       2. Do this using ternary operator\n",
    "\n",
    "# a = a if a>b else b\n",
    "#expr if cond1 else expr2 if cond2 else expr3\n",
    "\n",
    "num1=int(input('Enter the number: '))  \n",
    "num2=int(input('Enter the number: '))\n",
    "num3=int(input('Enter the number: '))\n",
    "if num1 > num2 and num1 > num3:\n",
    "    print(num1,' is greater than',num2 and num3)\n",
    "elif num2 > num3:\n",
    "    print(num2,' is greater than', num1 and num3)\n",
    "else:\n",
    "    print(num3,'is greater than', num1 and num2)\n",
    "    "
   ]
  },
  {
   "cell_type": "markdown",
   "metadata": {
    "colab_type": "text",
    "id": "IoOLQMUGdSox"
   },
   "source": [
    "# Loops - for loop, while loop"
   ]
  },
  {
   "cell_type": "markdown",
   "metadata": {
    "colab": {},
    "colab_type": "code",
    "id": "9K23Uld8dQfA"
   },
   "source": [
    "# Write a Python program to find the length of the my_str using loop:-\n",
    "\n",
    "#Input:- 'Write a Python program to find the length of the my_str'\n",
    "#Output:- 55\n",
    "\n",
    "my_str = 'Write a Python program to find the length of the my_str'\n",
    "for i in range(len(my_str)):\n",
    "    i += 1\n",
    "print(i)\n"
   ]
  },
  {
   "cell_type": "code",
   "execution_count": 24,
   "metadata": {
    "colab": {},
    "colab_type": "code",
    "id": "bp6AcqTsdYxy"
   },
   "outputs": [
    {
     "name": "stdout",
     "output_type": "stream",
     "text": [
      "The letter P has been repeated 9 times.\n"
     ]
    }
   ],
   "source": [
    "#Write a Python program to find the total number of times letter 'p' is appeared in the below string using loop:-\n",
    "    \n",
    "#Input:- 'peter piper picked a peck of pickled peppers.\\n'\n",
    "#Output:- 9\n",
    "\n",
    "my_str = 'peter piper picked a peck of pickled peppers.'\n",
    "a = 0\n",
    "for i in my_str:\n",
    "    if i == 'p':\n",
    "        a += 1\n",
    "print('The letter P has been repeated', a, 'times.')"
   ]
  },
  {
   "cell_type": "code",
   "execution_count": 25,
   "metadata": {
    "colab": {},
    "colab_type": "code",
    "id": "xvxSBhTJdav1"
   },
   "outputs": [
    {
     "name": "stdout",
     "output_type": "stream",
     "text": [
      "0\n",
      "6\n",
      "8\n",
      "12\n",
      "21\n",
      "29\n",
      "37\n",
      "39\n",
      "40\n"
     ]
    }
   ],
   "source": [
    "#Write a Python Program, to print all the indexes of all occurences of letter 'p' appeared in the string using loop:-\n",
    "    \n",
    "#Input:- 'peter piper picked a peck of pickled peppers.'\n",
    "#Output:- \n",
    "# 0\n",
    "# 6\n",
    "# 8\n",
    "# 12\n",
    "# 21\n",
    "# 29\n",
    "# 37\n",
    "# 39\n",
    "# 40\n",
    "\n",
    "my_str = 'peter piper picked a peck of pickled peppers.'\n",
    "for i in range(len(my_str)):\n",
    "    if my_str[i] == 'p':\n",
    "        print(i)"
   ]
  },
  {
   "cell_type": "code",
   "execution_count": 26,
   "metadata": {
    "colab": {},
    "colab_type": "code",
    "id": "79L_feMadbmw"
   },
   "outputs": [
    {
     "name": "stdout",
     "output_type": "stream",
     "text": [
      "['peter', 'piper', 'picked', 'a', 'peck', 'of', 'pickled', 'peppers']\n"
     ]
    }
   ],
   "source": [
    "#Write a python program to find below output using loop:-\n",
    "\n",
    "#Input:- 'peter piper picked a peck of pickled peppers.'\n",
    "#Output:- ['peter', 'piper', 'picked', 'a', 'peck', 'of', 'pickled', 'peppers']\n",
    "\n",
    "my_str = 'peter piper picked a peck of pickled peppers.'\n",
    "lst = []\n",
    "astr = ''\n",
    "for i in my_str:\n",
    "    if i == ' ' or i == '.':\n",
    "        lst.append(astr)\n",
    "        astr = ''\n",
    "    else:\n",
    "        astr += i\n",
    "print(lst)"
   ]
  },
  {
   "cell_type": "code",
   "execution_count": 27,
   "metadata": {
    "colab": {},
    "colab_type": "code",
    "id": "vzs5AJ53deVS"
   },
   "outputs": [
    {
     "name": "stdout",
     "output_type": "stream",
     "text": [
      "peter piper picked a peck of pickled peppers \n"
     ]
    }
   ],
   "source": [
    "#Write a python program to find below output using loop:-\n",
    "\n",
    "#Input:- 'peter piper picked a peck of pickled peppers.'\n",
    "#Output:- 'peppers pickled of peck a picked piper peter'\n",
    "\n",
    "my_str = 'peter piper picked a peck of pickled peppers.'\n",
    "lst = ''\n",
    "my_lst = []\n",
    "for i in my_str:\n",
    "    if i == ' ' or i == '.':\n",
    "        my_lst.append(lst)\n",
    "        lst = ''\n",
    "    else:\n",
    "        lst += i\n",
    "        \n",
    "str_list = my_lst[::-1]\n",
    "\n",
    "new_str = ''\n",
    "for i in my_lst:\n",
    "    new_str = new_str + i + ' '\n",
    "    \n",
    "print(new_str)\n"
   ]
  },
  {
   "cell_type": "code",
   "execution_count": 28,
   "metadata": {
    "colab": {},
    "colab_type": "code",
    "id": "i-HP7DrCdhwS"
   },
   "outputs": [
    {
     "name": "stdout",
     "output_type": "stream",
     "text": [
      ".sreppep delkcip fo kcep a dekcip repip retep\n"
     ]
    }
   ],
   "source": [
    "#Write a python program to find below output using loop:-\n",
    "\n",
    "#Input:- 'peter piper picked a peck of pickled peppers.'\n",
    "#Output:- '.sreppep delkcip fo kcep a dekcip repip retep'\n",
    "\n",
    "my_str = 'peter piper picked a peck of pickled peppers.'\n",
    "my_lst = ''\n",
    "for i in my_str:\n",
    "    my_lst = i + my_lst\n",
    "print(my_lst)"
   ]
  },
  {
   "cell_type": "code",
   "execution_count": 29,
   "metadata": {
    "colab": {},
    "colab_type": "code",
    "id": "3rt6p0ytdkq0"
   },
   "outputs": [
    {
     "name": "stdout",
     "output_type": "stream",
     "text": [
      "retep repip dekcip a kcep fo delkcip sreppep \n"
     ]
    }
   ],
   "source": [
    "#Write a python program to find below output using loop:-\n",
    "\n",
    "#Input:- 'peter piper picked a peck of pickled peppers.'\n",
    "#Output:- 'retep repip dekcip a kcep fo delkcip sreppep'\n",
    "\n",
    "my_str = 'peter piper picked a peck of pickled peppers.'\n",
    "my_lst = ''\n",
    "disp_str = ''\n",
    "\n",
    "for i in my_str:\n",
    "    if i == ' ' or i =='.':\n",
    "        disp_str = disp_str + my_lst[::-1] + \" \"\n",
    "        my_lst = ''\n",
    "        \n",
    "    else:\n",
    "        my_lst += i\n",
    "print(disp_str)"
   ]
  },
  {
   "cell_type": "code",
   "execution_count": 57,
   "metadata": {
    "colab": {},
    "colab_type": "code",
    "id": "HdlAWgT2dnKO"
   },
   "outputs": [
    {
     "name": "stdout",
     "output_type": "stream",
     "text": [
      "Peter Piper Picked A Peck Of Pickled Peppers \n"
     ]
    }
   ],
   "source": [
    "#Write a python program to find below output using loop:-\n",
    "\n",
    "#Input:- 'peter piper picked a peck of pickled peppers.'\n",
    "#Output:- 'Peter Piper Picked A Peck Of Pickled Peppers'\n",
    "my_str = 'peter piper picked a peck of pickled peppers.'\n",
    "disp_str = ''\n",
    "new_str = ''\n",
    "for i in my_str:\n",
    "    if i == ' ' or i == '.':\n",
    "        str2 = disp_str[0].upper() + disp_str[1:]\n",
    "        new_str = new_str + str2 + ' '\n",
    "        disp_str = ''\n",
    "    else:\n",
    "        disp_str += i\n",
    "        \n",
    "print(new_str)"
   ]
  },
  {
   "cell_type": "code",
   "execution_count": 56,
   "metadata": {
    "colab": {},
    "colab_type": "code",
    "id": "OthUuacodrNl"
   },
   "outputs": [
    {
     "name": "stdout",
     "output_type": "stream",
     "text": [
      "Peter piper picked a peck of pickled peppers \n"
     ]
    }
   ],
   "source": [
    "#Write a python program to find below output using loop:-\n",
    "\n",
    "#Input:- 'Peter Piper Picked A Peck Of Pickled Peppers.'\n",
    "#Output:- 'Peter piper picked a peck of pickled peppers'\n",
    "\n",
    "my_str = 'Peter Piper Picked A Peck Of Pickled Peppers.'\n",
    "disp_str = ''\n",
    "new_str = ''\n",
    "for i in my_str:\n",
    "    if i == ' ' or i == '.':\n",
    "        str2 = disp_str[0].lower() + disp_str[1:]\n",
    "        new_str = new_str + str2 + ' '\n",
    "        disp_str = ''\n",
    "    else:\n",
    "        disp_str += i\n",
    "\n",
    "str3 = new_str[0].upper() + new_str[1:]\n",
    "print(str3)"
   ]
  },
  {
   "cell_type": "code",
   "execution_count": 35,
   "metadata": {
    "colab": {
     "base_uri": "https://localhost:8080/",
     "height": 34
    },
    "colab_type": "code",
    "id": "scmDJE-ldsI9",
    "outputId": "4b1d1979-9f4a-4bc6-c505-b88b1bbd4d5d"
   },
   "outputs": [
    {
     "name": "stdout",
     "output_type": "stream",
     "text": [
      "29\n"
     ]
    }
   ],
   "source": [
    "#Write a python program to implement index method using loop. If sub_str is found in my_str then it will print the index\n",
    "# of first occurrence of first character of matching string in my_str:-\n",
    "\n",
    "#Input:- my_str = 'Peter Piper Picked A Peck Of Pickled Peppers.', sub_str = 'Pickl'\n",
    "#Output:- 29\n",
    "\n",
    "\n",
    "my_str = 'Peter Piper Picked A Peck Of Pickled Peppers.'\n",
    "sub_str = 'Pickl'\n",
    "\n",
    "print(my_str.index(sub_str))\n"
   ]
  },
  {
   "cell_type": "code",
   "execution_count": 37,
   "metadata": {
    "colab": {},
    "colab_type": "code",
    "id": "Kq_fwdb_dvYE"
   },
   "outputs": [
    {
     "name": "stdout",
     "output_type": "stream",
     "text": [
      "Peter Piper Picked A Pack Of Pickled Peppers \n"
     ]
    }
   ],
   "source": [
    "#Write a python program to implement replace method using loop. If sub_str is found in my_str then it will replace the first \n",
    "#occurrence of sub_str with new_str else it will will print sub_str not found:-\n",
    "\n",
    "#Input:- my_str = 'Peter Piper Picked A Peck Of Pickled Peppers.', sub_str = 'Peck', new_str = 'Pack'\n",
    "#Output:- 'Peter Piper Picked A Pack Of Pickled Peppers.'\n",
    "\n",
    "my_Str = 'Peter Piper Picked A Peck Of Pickled Peppers.'\n",
    "sub_str = 'Peck'\n",
    "new_str = 'Pack'\n",
    "disp_Str = ''\n",
    "my_list = []\n",
    "\n",
    "for i in my_Str:\n",
    "    if i == ' ' or i == '.':\n",
    "        my_list.append(disp_Str)\n",
    "        disp_Str = ''\n",
    "    else:\n",
    "        disp_Str += i\n",
    "\n",
    "i = 0\n",
    "for item in my_list:\n",
    "    if item == sub_str:\n",
    "        my_list[i] = new_str\n",
    "    i = i+1\n",
    "        \n",
    "# print(str_list)\n",
    "my_str1 = ''\n",
    "for ele in my_list:\n",
    "    my_str1 = my_str1 + ele + ' '\n",
    "    \n",
    "print(my_str1)\n"
   ]
  },
  {
   "cell_type": "code",
   "execution_count": 41,
   "metadata": {
    "colab": {},
    "colab_type": "code",
    "id": "4Qes5D0cdyd1"
   },
   "outputs": [
    {
     "name": "stdout",
     "output_type": "stream",
     "text": [
      "*********************Peck********************\n"
     ]
    }
   ],
   "source": [
    "#Write a python program to find below output (implements rjust and ljust) using loop:-\n",
    "\n",
    "#Input:- 'Peter Piper Picked A Peck Of Pickled Peppers.', sub_str = 'Peck', \n",
    "#Output:- '*********************Peck********************'\n",
    "my_str = 'Peter Piper Picked A Peck Of Pickled Peppers.'\n",
    "sub_str = 'Peck'\n",
    "\n",
    "i = my_str.index(sub_str)\n",
    "\n",
    "disp_str = '*' * (i) + sub_str + '*' * (len(my_str)-i-len(sub_str))\n",
    "print(disp_str)\n",
    "\n",
    "\n"
   ]
  },
  {
   "cell_type": "code",
   "execution_count": 43,
   "metadata": {
    "colab": {},
    "colab_type": "code",
    "id": "DsOrb07Od0lR"
   },
   "outputs": [
    {
     "name": "stdout",
     "output_type": "stream",
     "text": [
      "['This', 'is', 'Python class']\n"
     ]
    }
   ],
   "source": [
    "#Write a python program to find below output using loop:-\n",
    "\n",
    "#Input:- 'This is Python class', sep = 'is', \n",
    "#Output:- ['This', 'is', 'Python class']\n",
    "\n",
    "my_str = 'This is Python class'\n",
    "sep = 'is'\n",
    "\n",
    "str_list = my_str.split()\n",
    "my_lst = []\n",
    "a = ''\n",
    "b = ''\n",
    "for i in str_list:\n",
    "    if str_list.index(i) < str_list.index(sep):\n",
    "        a = a + i + ' '\n",
    "    if str_list.index(i) > str_list.index(sep):\n",
    "        b = b + i + ' '\n",
    "a2 = a.rstrip()\n",
    "b2 = b.rstrip()\n",
    "my_lst.append(a2)\n",
    "my_lst.append(sep)\n",
    "my_lst.append(b2)\n",
    "\n",
    "print(my_lst)\n"
   ]
  },
  {
   "cell_type": "code",
   "execution_count": 52,
   "metadata": {
    "colab": {},
    "colab_type": "code",
    "id": "jRnBVufmd2Ay"
   },
   "outputs": [
    {
     "name": "stdout",
     "output_type": "stream",
     "text": [
      "R{vjqp\n",
      "Rwvfql\n",
      "R{vfml\n"
     ]
    }
   ],
   "source": [
    "#Write a python program which takes one input string from user and encode it in below format:-\n",
    "    # 1. #Input:- 'Python'\n",
    "       #Output:- 'R{vjqp'\n",
    "my_str = 'Python'\n",
    "x = ''\n",
    "for i in range(len(my_str)):\n",
    "    x += (chr(ord(my_str[i])+2))\n",
    "print(x)\n",
    "\n",
    "        \n",
    "\n",
    "    # 2. #Input:- 'Python'\n",
    "       #Output:- 'Rwvfql'\n",
    "        \n",
    "y = ''\n",
    "for i in range(len(my_str)):\n",
    "    if i%2 == 0:\n",
    "           y+= (chr(ord(my_str[i])+2))\n",
    "    else:\n",
    "        y += (chr(ord(my_str[i])-2))\n",
    "print(y)\n",
    "          \n",
    "        \n",
    "        \n",
    "        \n",
    "    # 3. #Input:- 'Python'\n",
    "       #Output:- 'R{vkfml'\n",
    "\n",
    "z = ''\n",
    "for i in range(0,len(my_str)):\n",
    "    if i < (len(my_str)/2):\n",
    "        z += (chr(ord(my_str[i])+2))\n",
    "    else:\n",
    "        z += (chr(ord(my_str[i])-2))\n",
    "print(z)"
   ]
  },
  {
   "cell_type": "code",
   "execution_count": null,
   "metadata": {},
   "outputs": [],
   "source": []
  }
 ],
 "metadata": {
  "colab": {
   "name": "Conditional_and_loop_assignment.ipynb",
   "provenance": []
  },
  "kernelspec": {
   "display_name": "Python 3",
   "language": "python",
   "name": "python3"
  },
  "language_info": {
   "codemirror_mode": {
    "name": "ipython",
    "version": 3
   },
   "file_extension": ".py",
   "mimetype": "text/x-python",
   "name": "python",
   "nbconvert_exporter": "python",
   "pygments_lexer": "ipython3",
   "version": "3.7.6"
  }
 },
 "nbformat": 4,
 "nbformat_minor": 1
}
