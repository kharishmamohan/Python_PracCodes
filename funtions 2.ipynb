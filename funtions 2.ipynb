{
 "cells": [
  {
   "cell_type": "code",
   "execution_count": 37,
   "metadata": {},
   "outputs": [
    {
     "name": "stdout",
     "output_type": "stream",
     "text": [
      "1\n",
      "2\n",
      "3\n"
     ]
    },
    {
     "data": {
      "text/plain": [
       "dict_keys([1, 2, 3])"
      ]
     },
     "execution_count": 37,
     "metadata": {},
     "output_type": "execute_result"
    }
   ],
   "source": [
    "# return statement\n",
    "\n",
    "# Different types of arguments\n",
    "#     1. Positional arguments - position or order\n",
    "# def add(a,b,c,d):                # Parameter\n",
    "#     total_sum = a+b+c+d\n",
    "#     total_prod = a*b*c*d\n",
    "#     return total_sum, total_prod\n",
    "# print(add(10,20,30,40)    )             # Arguments\n",
    "# add(10,20,30)\n",
    "# add(10,20,30,40,50)\n",
    "\n",
    "#     2. Keyworded arguments - position or order does not matter\n",
    "# def add(a,b,c,d):                # Parameter\n",
    "#     print(a,b,c,d)\n",
    "#     total_sum = a+b+c+d\n",
    "#     total_prod = a*b*c*d\n",
    "#     return total_sum, total_prod\n",
    "# # add(a = 10,b = 20, c = 30,d = 40)\n",
    "# add(d = 30, c = 90, a = 10, b = 40)\n",
    "\n",
    "\n",
    "# Mix of positional arguments and keyworded arguments - keyworded arguments should always come after the positional arguments\n",
    "# def add(a,b,c,d):                 # Parameter \n",
    "#     print(a,b,c,d)\n",
    "#     total_sum = a+b+c+d\n",
    "#     total_prod = a*b*c*d\n",
    "#     return total_sum, total_prod\n",
    "# add(10,20,d = 30,c = 40)  \n",
    "# add(d = 30,c = 40,10,20) \n",
    "\n",
    "\n",
    "#     3. Default Parameters/Arguments - \n",
    "# def add(a,b,c = 0,d = 0):                 # Parameter \n",
    "#     print(a,b,c,d)\n",
    "#     total_sum = a+b+c+d\n",
    "#     return total_sum\n",
    "# print(add())\n",
    "# print(add(10,20))\n",
    "# print(add(10,20,30))\n",
    "# print(add(10,20,30,40))\n",
    "# add(10,20,d = 30,c = 40)  \n",
    "# add(d = 30,c = 40,10,20) \n",
    "\n",
    "# Mix of positional and default - default should follow the positional\n",
    "# def add(a,b,c = 0,d = 0):                 # Parameter \n",
    "#     print(a,b,c,d)\n",
    "#     total_sum = a+b+c+d\n",
    "#     return total_sum\n",
    "# # print(add())\n",
    "# print(add(10,20))\n",
    "# print(add(10,20,30))\n",
    "# print(add(10,20,d = 30))\n",
    "    \n",
    "# Variable length argument\n",
    "#     *args - varaiable length args - tuple\n",
    "#     **kwargs - varaiable length keyworded args - dictionary\n",
    "\n",
    "# def add(*var):\n",
    "#     print(var, type(var))\n",
    "#     total = 1\n",
    "#     for i in var:\n",
    "#         total = total * i\n",
    "#     print(total)\n",
    "#     print()\n",
    "# add()\n",
    "# add(10)\n",
    "# add(10,20)\n",
    "# add(10,20,30)\n",
    "# add(10,20,30,40)\n",
    "# add(10,20,30,40,50)\n",
    "# add(10,20,30,40,50,60)\n",
    "\n",
    "\n",
    "\n",
    "# def add(**var):\n",
    "#     print(var, type(var))\n",
    "#     total = 0\n",
    "#     for i in var:\n",
    "#         total = total + var[i]\n",
    "#     print(total)\n",
    "#     print()\n",
    "# add()\n",
    "# add(a = 10)\n",
    "# add(a = 10,b = 20)\n",
    "# add(a = 10,b = 20,c = 30)\n",
    "# add(a = 10,b = 20,c = 30,d = 40)\n",
    "# add(a = 10,b = 20,c = 30,d = 40, e = 50)\n",
    "# add(10,20,30,40,50,60)\n",
    "\n",
    "# for i in {1:100, 2:200, 3:300}:\n",
    "#     print(i)\n",
    "\n",
    "\n",
    "\n",
    "# {1:100, 2:200, 3:300}.keys()\n",
    "\n",
    "\n",
    "\n",
    "\n",
    "\n"
   ]
  },
  {
   "cell_type": "code",
   "execution_count": 34,
   "metadata": {},
   "outputs": [],
   "source": [
    "# lst = [10,20,30,40,50]\n",
    "# a , *var = lst\n",
    "# print(a)\n",
    "# print(var)"
   ]
  },
  {
   "cell_type": "code",
   "execution_count": 3,
   "metadata": {},
   "outputs": [
    {
     "name": "stdout",
     "output_type": "stream",
     "text": [
      "300\n",
      "400\n"
     ]
    },
    {
     "ename": "NameError",
     "evalue": "name 'nested_func' is not defined",
     "output_type": "error",
     "traceback": [
      "\u001b[0;31m---------------------------------------------------------------------------\u001b[0m",
      "\u001b[0;31mNameError\u001b[0m                                 Traceback (most recent call last)",
      "\u001b[0;32m<ipython-input-3-b6749ae69a33>\u001b[0m in \u001b[0;36m<module>\u001b[0;34m\u001b[0m\n\u001b[1;32m    106\u001b[0m \u001b[0;34m\u001b[0m\u001b[0m\n\u001b[1;32m    107\u001b[0m \u001b[0mmy_func\u001b[0m\u001b[0;34m(\u001b[0m\u001b[0;34m)\u001b[0m\u001b[0;34m\u001b[0m\u001b[0;34m\u001b[0m\u001b[0m\n\u001b[0;32m--> 108\u001b[0;31m \u001b[0mnested_func\u001b[0m\u001b[0;34m(\u001b[0m\u001b[0;34m)\u001b[0m\u001b[0;34m\u001b[0m\u001b[0;34m\u001b[0m\u001b[0m\n\u001b[0m\u001b[1;32m    109\u001b[0m \u001b[0mprint\u001b[0m\u001b[0;34m(\u001b[0m\u001b[0ma\u001b[0m\u001b[0;34m)\u001b[0m\u001b[0;34m\u001b[0m\u001b[0;34m\u001b[0m\u001b[0m\n\u001b[1;32m    110\u001b[0m \u001b[0mprint\u001b[0m\u001b[0;34m(\u001b[0m\u001b[0mb\u001b[0m\u001b[0;34m)\u001b[0m\u001b[0;34m\u001b[0m\u001b[0;34m\u001b[0m\u001b[0m\n",
      "\u001b[0;31mNameError\u001b[0m: name 'nested_func' is not defined"
     ]
    }
   ],
   "source": [
    "# Functiona aliasing - giving a name to the existing function\n",
    "\n",
    "# def add(a,b,c,d):\n",
    "#     print(a,b,c,d)\n",
    "#     print(a+b+c+d)\n",
    "#     print(a*b*c*d)\n",
    "# # add(10,20,30,40)\n",
    "# # print(add)\n",
    "# sum1 = add              # Function aliasing\n",
    "# print(sum1)\n",
    "# sum1(10,20,30,40)\n",
    "\n",
    "\n",
    "# def emp_info():\n",
    "#     emp_name = input('Ener Emp name: ')\n",
    "#     emp_mob = input('Ener Emp mobile: ')\n",
    "#     emp_id = input('Ener Emp ID: ')\n",
    "#     print(f'Employee details: \\n\\tEmployee Name:- {emp_name},\\n\\tEmployee ID:- {emp_id},\\n\\tEmployee Mobile:- {emp_mob}')\n",
    "# emp_det = emp_info\n",
    "# print(emp_det)\n",
    "# print(emp_info)\n",
    "# emp_info()\n",
    "# emp_det()\n",
    "# import re\n",
    "# def emp_info():\n",
    "#     emp_name = input('Ener Emp name: ')\n",
    "#     emp_mob = re.findall(r'\\d{10}',input('Ener Emp mobile: '))\n",
    "#     emp_id = input('Ener Emp ID: ')\n",
    "#     print(f'Employee details: \\n\\tEmployee Name:- {emp_name},\\n\\tEmployee ID:- {emp_id},\\n\\tEmployee Mobile:- {emp_mob}')\n",
    "# emp_det = emp_info()\n",
    "# print(emp_info)\n",
    "# print(emp_det)\n",
    "# emp_info()\n",
    "# emp_det\n",
    "\n",
    "# Namespace and scope:\n",
    "# Namespace - Container - Local, Extended, Global, Builtins\n",
    "# Scope - Rule - Local --> Extended --> Global --> Builtins --> NameError\n",
    "\n",
    "# a = 100\n",
    "# b = 200\n",
    "# def my_func():\n",
    "#     c = 300\n",
    "#     d = 400\n",
    "#     print(c)\n",
    "#     print(d)\n",
    "#     def nested_func():\n",
    "#         e = 500\n",
    "#         print(e)\n",
    "#         print(c)\n",
    "#         print(a)\n",
    "#     nested_func()\n",
    "# my_func()\n",
    "# print(a)\n",
    "# print(b)\n",
    "\n",
    "# a = 100\n",
    "# b = 200\n",
    "# def f1():\n",
    "#     print(a)\n",
    "#     print(b)\n",
    "# def my_func():\n",
    "#     c = 300\n",
    "#     d = 400\n",
    "#     print(c)\n",
    "#     print(d)\n",
    "#     def nested_func():\n",
    "#         e = 500\n",
    "#         print(e)\n",
    "#         print(c)\n",
    "#         print(a)\n",
    "#         f1()\n",
    "#     nested_func()  \n",
    "\n",
    "# my_func()\n",
    "# print(a)\n",
    "# print(b)\n",
    "\n",
    "# print(dir(__builtins__))\n",
    "# print(dir())\n",
    "# import math\n",
    "# print(dir())\n",
    "# print(math.pi)\n",
    "# def f1():\n",
    "#     def f2():\n",
    "#         print(math.pi)\n",
    "#     f2()\n",
    "# f1()\n",
    "\n",
    "a = 100\n",
    "b = 200\n",
    "def f1():\n",
    "    print(a)\n",
    "    print(b)\n",
    "def my_func():\n",
    "    c = 300\n",
    "    d = 400\n",
    "    print(c)\n",
    "    print(d)\n",
    "    def nested_func():\n",
    "        e = 500\n",
    "        print(e)\n",
    "        print(c)\n",
    "        print(a)\n",
    "        f1() \n",
    "\n",
    "my_func()\n",
    "# nested_func() \n",
    "print(a)\n",
    "print(b)\n",
    "\n",
    "\n",
    "\n",
    "\n",
    "\n"
   ]
  },
  {
   "cell_type": "code",
   "execution_count": 50,
   "metadata": {},
   "outputs": [],
   "source": [
    "# len([10,20,30])\n",
    "# [10,20,30].append(100)"
   ]
  },
  {
   "cell_type": "code",
   "execution_count": null,
   "metadata": {},
   "outputs": [],
   "source": [
    "a = 10\n",
    "b = a\n"
   ]
  },
  {
   "cell_type": "code",
   "execution_count": 63,
   "metadata": {},
   "outputs": [
    {
     "name": "stdout",
     "output_type": "stream",
     "text": [
      "Ener Emp mobile: 762354gfdr\n",
      "Not a number\n"
     ]
    }
   ],
   "source": [
    "emp_mob = re.findall(r'\\d{10}',input('Ener Emp mobile: '))\n",
    "try:\n",
    "    if len(emp_mob[0]) == 10:\n",
    "        print(emp_mob[0])\n",
    "    \n",
    "except:\n",
    "        print('Not a number')"
   ]
  },
  {
   "cell_type": "code",
   "execution_count": null,
   "metadata": {},
   "outputs": [],
   "source": []
  },
  {
   "cell_type": "code",
   "execution_count": null,
   "metadata": {},
   "outputs": [],
   "source": []
  },
  {
   "cell_type": "code",
   "execution_count": null,
   "metadata": {},
   "outputs": [],
   "source": []
  },
  {
   "cell_type": "code",
   "execution_count": null,
   "metadata": {},
   "outputs": [],
   "source": []
  },
  {
   "cell_type": "code",
   "execution_count": null,
   "metadata": {},
   "outputs": [],
   "source": []
  },
  {
   "cell_type": "code",
   "execution_count": null,
   "metadata": {},
   "outputs": [],
   "source": []
  },
  {
   "cell_type": "code",
   "execution_count": null,
   "metadata": {},
   "outputs": [],
   "source": []
  },
  {
   "cell_type": "code",
   "execution_count": null,
   "metadata": {},
   "outputs": [],
   "source": []
  },
  {
   "cell_type": "code",
   "execution_count": null,
   "metadata": {},
   "outputs": [],
   "source": []
  },
  {
   "cell_type": "code",
   "execution_count": null,
   "metadata": {},
   "outputs": [],
   "source": []
  },
  {
   "cell_type": "code",
   "execution_count": null,
   "metadata": {},
   "outputs": [],
   "source": []
  },
  {
   "cell_type": "code",
   "execution_count": null,
   "metadata": {},
   "outputs": [],
   "source": []
  }
 ],
 "metadata": {
  "kernelspec": {
   "display_name": "Python 3",
   "language": "python",
   "name": "python3"
  },
  "language_info": {
   "codemirror_mode": {
    "name": "ipython",
    "version": 3
   },
   "file_extension": ".py",
   "mimetype": "text/x-python",
   "name": "python",
   "nbconvert_exporter": "python",
   "pygments_lexer": "ipython3",
   "version": "3.7.3"
  }
 },
 "nbformat": 4,
 "nbformat_minor": 2
}
