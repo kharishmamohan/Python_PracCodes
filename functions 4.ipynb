{
 "cells": [
  {
   "cell_type": "code",
   "execution_count": 5,
   "metadata": {},
   "outputs": [
    {
     "name": "stdout",
     "output_type": "stream",
     "text": [
      "5\n"
     ]
    }
   ],
   "source": [
    "# Decorator - \n",
    "\n",
    "def decorator(func):\n",
    "    def wrapper(x,y):\n",
    "        if y == 0:\n",
    "            print('Number can not be divided by 0')\n",
    "        else:\n",
    "            print(func(x,y))\n",
    "    return wrapper\n",
    "\n",
    "\n",
    "\n",
    "# @decorator\n",
    "def existing_func(a,b):\n",
    "    return a//b\n",
    "\n",
    "\n",
    "existing_func = decorator(existing_func)\n",
    "existing_func(10,2)"
   ]
  },
  {
   "cell_type": "code",
   "execution_count": null,
   "metadata": {},
   "outputs": [],
   "source": [
    "Decorator:\n",
    "    if esal >20000:\n",
    "        then extra amount will be the pfamount\n",
    "            print(ename,esal,epf)\n",
    "    else:\n",
    "        print(ename, esal)\n",
    "    \n",
    "\n",
    "\n",
    "employee_info(eame, esal):\n",
    "    return enam,esal\n",
    "\n",
    "employee_info('ABC', 20000)"
   ]
  },
  {
   "cell_type": "code",
   "execution_count": null,
   "metadata": {},
   "outputs": [],
   "source": [
    "def decorator(func):\n",
    "    def wrapper(a,b):\n",
    "        ename, esal = func()\n",
    "        if b>20000:\n",
    "            print('Emp name:',ename,'\\nEmp sal:',esal,'\\nPF amount:',(esal-20000))\n",
    "            \n",
    "        else:\n",
    "            print('Emp name:',ename,'\\nEmp sal:',esal)\n",
    "    return wrapper\n",
    "\n",
    "@decorator\n",
    "def employee_info(enam,esal):\n",
    "    return enam,esal\n",
    "\n",
    "employee_info('ABC',30000)\n",
    "\n",
    "\n",
    "@classmethod\n",
    "@staticmethod\n",
    "@property"
   ]
  },
  {
   "cell_type": "code",
   "execution_count": 22,
   "metadata": {},
   "outputs": [
    {
     "name": "stdout",
     "output_type": "stream",
     "text": [
      "0\n",
      "1\n",
      "2\n"
     ]
    }
   ],
   "source": [
    "# Generators - \n",
    "\n",
    "\n",
    "# def my_func():\n",
    "#     num = 0\n",
    "#     while True:\n",
    "#         return num\n",
    "#         return 100\n",
    "#         num += 1\n",
    "# print(my_func())\n",
    "# print(my_func())\n",
    "\n",
    "\n",
    "# def my_func():\n",
    "#     num = 0\n",
    "#     i = 0\n",
    "#     while i<3:\n",
    "#         yield num\n",
    "#         num += 1\n",
    "#         i+=1\n",
    "# a = my_func()\n",
    "# print(next(a))\n",
    "# print(next(a))\n",
    "# print(next(a))\n",
    "# print(next(a))\n",
    "\n",
    "# for ele in a:\n",
    "#     print(ele)\n",
    "\n",
    "\n",
    "# map(lambda num:num*2, [10,20,30])\n"
   ]
  },
  {
   "cell_type": "code",
   "execution_count": 13,
   "metadata": {},
   "outputs": [
    {
     "name": "stdout",
     "output_type": "stream",
     "text": [
      "10\n",
      "20\n",
      "30\n"
     ]
    }
   ],
   "source": [
    "lst = [10,20,30]\n",
    "for i in lst:\n",
    "    print(i)"
   ]
  },
  {
   "cell_type": "code",
   "execution_count": 21,
   "metadata": {},
   "outputs": [
    {
     "name": "stdout",
     "output_type": "stream",
     "text": [
      "20\n"
     ]
    }
   ],
   "source": [
    "m = map(lambda num:num*2, [10,20,30])\n",
    "print(next(m))"
   ]
  },
  {
   "cell_type": "code",
   "execution_count": 32,
   "metadata": {},
   "outputs": [
    {
     "name": "stdout",
     "output_type": "stream",
     "text": [
      "10\n",
      "10.2\n",
      "(10+20j)\n",
      "Python\n",
      "True\n"
     ]
    }
   ],
   "source": [
    "def my_func():\n",
    "#     stat1\n",
    "#     stat2\n",
    "    yield 10\n",
    "    yield 10.20\n",
    "    yield 10+20j\n",
    "    yield 'Python'\n",
    "    yield True\n",
    "    \n",
    "    \n",
    "g = my_func()\n",
    "# print(next(g))\n",
    "# print(next(g))\n",
    "\n",
    "for i in g:\n",
    "    print(i)\n",
    "\n"
   ]
  },
  {
   "cell_type": "code",
   "execution_count": 29,
   "metadata": {},
   "outputs": [
    {
     "name": "stdout",
     "output_type": "stream",
     "text": [
      "[0, 1, 4, 9, 16] <class 'list'>\n",
      "<generator object <genexpr> at 0x1121d6228> <class 'generator'>\n"
     ]
    }
   ],
   "source": [
    "# lst = [i*i for i in range(5)]\n",
    "# t = (i*i for i in range(5))\n",
    "# print(lst, type(lst))\n",
    "# print(t, type(t))"
   ]
  },
  {
   "cell_type": "code",
   "execution_count": 31,
   "metadata": {},
   "outputs": [
    {
     "name": "stdout",
     "output_type": "stream",
     "text": [
      "8697464\n",
      "120\n"
     ]
    }
   ],
   "source": [
    "import sys\n",
    "print(sys.getsizeof([i*i for i in range(1000000)]))\n",
    "print(sys.getsizeof((i*i for i in range(1000000))))"
   ]
  },
  {
   "cell_type": "code",
   "execution_count": null,
   "metadata": {},
   "outputs": [],
   "source": [
    "# -10 +10\n",
    "# def my_gen():\n",
    "#     num=-10\n",
    "#     while(num<=10):\n",
    "#         yield num\n",
    "#         num+=1\n",
    "# a=my_gen()\n",
    "\n",
    "# for i in a:\n",
    "#     print(i)"
   ]
  },
  {
   "cell_type": "code",
   "execution_count": 36,
   "metadata": {},
   "outputs": [
    {
     "name": "stdout",
     "output_type": "stream",
     "text": [
      "0\n",
      "1\n",
      "1\n",
      "2\n",
      "3\n",
      "5\n",
      "8\n",
      "13\n",
      "21\n",
      "34\n",
      "55\n",
      "89\n",
      "\n"
     ]
    }
   ],
   "source": [
    "# fibbonaci series - 0, 1, 1, 2, 3, 5, 8, 13, 21, 34, 55, 89\n",
    "def fibonacci():\n",
    "    \"\"\"Fibonacci numbers generator\"\"\"\n",
    "    a, b = 0, 1\n",
    "    while True:\n",
    "        yield a\n",
    "        a, b = b, a + b\n",
    "\n",
    "f = fibonacci()\n",
    "\n",
    "counter = 0\n",
    "for x in f:\n",
    "    print(x)\n",
    "    counter += 1\n",
    "    if (counter > 11): break \n",
    "print()"
   ]
  },
  {
   "cell_type": "code",
   "execution_count": 33,
   "metadata": {},
   "outputs": [
    {
     "name": "stdout",
     "output_type": "stream",
     "text": [
      "0 \n",
      " 1 \n",
      "\n",
      "1\n",
      "2\n",
      "3\n",
      "5\n",
      "8\n",
      "13\n",
      "21\n",
      "34\n",
      "55\n",
      "89\n"
     ]
    }
   ],
   "source": [
    "def fib():\n",
    "    a = 0\n",
    "    b = 1\n",
    "    c = a+b\n",
    "    while (c < 100):\n",
    "        yield c\n",
    "        a = b\n",
    "        b = c\n",
    "        c = a+b\n",
    "        \n",
    "        \n",
    "a = fib()\n",
    "print(0,'\\n',1,'\\n')\n",
    "for i in a:\n",
    "    print(i)"
   ]
  },
  {
   "cell_type": "code",
   "execution_count": null,
   "metadata": {},
   "outputs": [],
   "source": [
    "# Modules - "
   ]
  },
  {
   "cell_type": "code",
   "execution_count": 41,
   "metadata": {},
   "outputs": [
    {
     "name": "stdout",
     "output_type": "stream",
     "text": [
      "100\n",
      "200\n",
      "<generator object my_func at 0x1121d6390>\n"
     ]
    }
   ],
   "source": [
    "# import my_mod\n",
    "# # print(dir(my_mod))\n",
    "# print(my_mod.n1)\n",
    "# print(my_mod.n2)\n",
    "# print(my_mod.my_func())"
   ]
  },
  {
   "cell_type": "code",
   "execution_count": 5,
   "metadata": {},
   "outputs": [
    {
     "name": "stdout",
     "output_type": "stream",
     "text": [
      "100\n",
      "<generator object my_func at 0x110a830c0>\n"
     ]
    }
   ],
   "source": [
    "# print(dir())\n",
    "# from my_mod import n1, my_func\n",
    "# # print(dir())\n",
    "# print(n1)\n",
    "# print(my_func())"
   ]
  },
  {
   "cell_type": "code",
   "execution_count": 3,
   "metadata": {},
   "outputs": [
    {
     "name": "stdout",
     "output_type": "stream",
     "text": [
      "100\n"
     ]
    },
    {
     "ename": "NameError",
     "evalue": "name 'my_mod' is not defined",
     "output_type": "error",
     "traceback": [
      "\u001b[0;31m---------------------------------------------------------------------------\u001b[0m",
      "\u001b[0;31mNameError\u001b[0m                                 Traceback (most recent call last)",
      "\u001b[0;32m<ipython-input-3-a32371b2359d>\u001b[0m in \u001b[0;36m<module>\u001b[0;34m\u001b[0m\n\u001b[1;32m      2\u001b[0m \u001b[0;31m# print(dir())\u001b[0m\u001b[0;34m\u001b[0m\u001b[0;34m\u001b[0m\u001b[0;34m\u001b[0m\u001b[0m\n\u001b[1;32m      3\u001b[0m \u001b[0mprint\u001b[0m\u001b[0;34m(\u001b[0m\u001b[0mm\u001b[0m\u001b[0;34m.\u001b[0m\u001b[0mn1\u001b[0m\u001b[0;34m)\u001b[0m\u001b[0;34m\u001b[0m\u001b[0;34m\u001b[0m\u001b[0m\n\u001b[0;32m----> 4\u001b[0;31m \u001b[0mprint\u001b[0m\u001b[0;34m(\u001b[0m\u001b[0mmy_mod\u001b[0m\u001b[0;34m.\u001b[0m\u001b[0mn2\u001b[0m\u001b[0;34m)\u001b[0m\u001b[0;34m\u001b[0m\u001b[0;34m\u001b[0m\u001b[0m\n\u001b[0m",
      "\u001b[0;31mNameError\u001b[0m: name 'my_mod' is not defined"
     ]
    }
   ],
   "source": [
    "# import my_mod as m\n",
    "# print(dir())\n",
    "# print(m.n1)\n",
    "# print(my_mod.n2)"
   ]
  },
  {
   "cell_type": "code",
   "execution_count": 4,
   "metadata": {},
   "outputs": [
    {
     "name": "stdout",
     "output_type": "stream",
     "text": [
      "<generator object my_func at 0x111737f48>\n",
      "100\n"
     ]
    }
   ],
   "source": [
    "# from my_mod import my_func as m, n1 as n\n",
    "# print(dir())\n",
    "# print(n2)\n",
    "# print(my_mod.n2)\n",
    "# print(m())\n",
    "# print(n)"
   ]
  },
  {
   "cell_type": "code",
   "execution_count": 1,
   "metadata": {},
   "outputs": [
    {
     "name": "stdout",
     "output_type": "stream",
     "text": [
      "Fibonacci Series\n",
      "0\n",
      "1\n",
      "1\n",
      "2\n",
      "3\n",
      "5\n",
      "8\n",
      "13\n",
      "21\n",
      "34\n",
      "55\n",
      "89\n",
      "\n",
      "\n",
      "\n",
      "\n",
      "Generator\n",
      "10\n",
      "10.2\n",
      "(10+20j)\n",
      "Python\n",
      "True\n"
     ]
    }
   ],
   "source": [
    "# import my_mod"
   ]
  },
  {
   "cell_type": "code",
   "execution_count": 4,
   "metadata": {},
   "outputs": [],
   "source": [
    "import math\n",
    "# print(dir(math))"
   ]
  },
  {
   "cell_type": "code",
   "execution_count": 2,
   "metadata": {},
   "outputs": [
    {
     "name": "stdout",
     "output_type": "stream",
     "text": [
      "__main__\n"
     ]
    }
   ],
   "source": [
    "import my_mod\n",
    "print(__name__)"
   ]
  }
 ],
 "metadata": {
  "kernelspec": {
   "display_name": "Python 3",
   "language": "python",
   "name": "python3"
  },
  "language_info": {
   "codemirror_mode": {
    "name": "ipython",
    "version": 3
   },
   "file_extension": ".py",
   "mimetype": "text/x-python",
   "name": "python",
   "nbconvert_exporter": "python",
   "pygments_lexer": "ipython3",
   "version": "3.7.3"
  }
 },
 "nbformat": 4,
 "nbformat_minor": 2
}
