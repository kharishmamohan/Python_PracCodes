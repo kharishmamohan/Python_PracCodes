{
 "cells": [
  {
   "cell_type": "code",
   "execution_count": null,
   "metadata": {},
   "outputs": [],
   "source": [
    "# Genrator decorator \n",
    "# lambda\n",
    "# file handling - problems, \n",
    "# regex\n",
    "\n",
    "# def d_emp_det(f):\n",
    "#     def inner_emp_info():\n",
    "#         ename, esal = f()\n",
    "#         if esal > 20000:\n",
    "#             pf_amt = esal - 20000\n",
    "#             print('The pf amount is: ', pf_amt)\n",
    "#     return inner_emp_info\n",
    "\n",
    "# @d_emp_det\n",
    "# def employee_info():\n",
    "#     ename = input('Enter the employee Name: ')\n",
    "#     esal = int(input('Enter the employee Salary: '))\n",
    "#     return ename, esal\n",
    "    \n",
    "\n",
    "# employee_info()\n"
   ]
  },
  {
   "cell_type": "code",
   "execution_count": 9,
   "metadata": {},
   "outputs": [
    {
     "name": "stdout",
     "output_type": "stream",
     "text": [
      "10\n",
      "7\n",
      "4\n",
      "1\n"
     ]
    }
   ],
   "source": [
    "# csv- email - 100000000000\n",
    "\n",
    "# tuple comprehension\n",
    "# function definition\n",
    "\n",
    "# def my_gen():\n",
    "#     for i in range(100000):\n",
    "#         yield csV-email[i]\n",
    "\n",
    "\n",
    "def my_range(start, stop, step = 1):\n",
    "    if start < stop:\n",
    "        while start <= stop:\n",
    "            yield start\n",
    "            start += step\n",
    "    else:\n",
    "        while start >= stop:\n",
    "            yield start\n",
    "            start -= step\n",
    "g = my_range(10, 0,3)\n",
    "for i in g:\n",
    "    print(i)"
   ]
  },
  {
   "cell_type": "code",
   "execution_count": 13,
   "metadata": {},
   "outputs": [
    {
     "name": "stdout",
     "output_type": "stream",
     "text": [
      "Not Palindrome\n"
     ]
    }
   ],
   "source": [
    "# lambda\n",
    "\n",
    "# a = lambda num1, num2, num3:num1+num2+num3\n",
    "# print(a(2,3,4))\n",
    "\n",
    "# a = lambda num: True if num%2 == 0 else False\n",
    "# print(a(4))\n",
    "\n",
    "# a = lambda num:'Palindrome' if str(num) == str(num)[::-1] else \"Not Palindrome\"\n",
    "# print(a(1231))\n",
    "\n"
   ]
  },
  {
   "cell_type": "code",
   "execution_count": 23,
   "metadata": {},
   "outputs": [
    {
     "name": "stdout",
     "output_type": "stream",
     "text": [
      "print(\"Hello World\")\n"
     ]
    }
   ],
   "source": [
    "# file handling\n",
    "\n",
    "f = open('f1.py', 'r+')\n",
    "f.write('print(\"Hello World\")')\n",
    "f.seek(0)\n",
    "print(f.read())\n",
    "f.close()\n",
    "\n",
    "\n",
    "\n"
   ]
  },
  {
   "cell_type": "code",
   "execution_count": 20,
   "metadata": {},
   "outputs": [],
   "source": [
    "\n",
    "import subprocess\n",
    "with open('output.txt', 'wb') as f:\n",
    "    subprocess.check_call(['Python','f1.py'], stdout = f)\n"
   ]
  },
  {
   "cell_type": "code",
   "execution_count": 39,
   "metadata": {},
   "outputs": [
    {
     "name": "stdout",
     "output_type": "stream",
     "text": [
      "<re.Match object; span=(8, 11), match='bk9'>\n",
      "<re.Match object; span=(6, 7), match='+'>\n"
     ]
    }
   ],
   "source": [
    "# regex\n",
    "# import re\n",
    "# my_str = \"test452string\"\n",
    "# print(re.search(r'[0-9][0-9][0-4]',my_str))\n",
    "\n",
    "# my_str = \"12string45test67\"\n",
    "# print(re.search(r'[0-9][0-9][0-9]',my_str))\n",
    "\n",
    "# print(re.search(r'te[A-Z]','FSteZmbk'))\n",
    "\n",
    "# print(re.search(r'[0-9a-fA-F]{4}','########fc98--------'))\n",
    "\n",
    "# print(re.search(r'[^0-9a-fA-F]{4}','########fc98--------'))\n",
    "\n",
    "\n",
    "# print(re.search(r'[0-9^a-fA-F]{4}','########f^c98--------'))\n",
    "\n",
    "# print(re.search('[-0-9-]{2}','FSte-9Zmbk98'))\n",
    "\n",
    "# print(re.search('[bk\\-9]{3}','FSte-9Zmbk98'))\n",
    "\n",
    "# print(re.search('[)*+|]', 'test]9+]'))\n",
    "\n",
    "\n",
    "\n"
   ]
  },
  {
   "cell_type": "code",
   "execution_count": 40,
   "metadata": {},
   "outputs": [
    {
     "name": "stdout",
     "output_type": "stream",
     "text": [
      "2 X 1 = 2\n",
      "\n",
      "2 X 2 = 4\n",
      "\n",
      "2 X 3 = 6\n",
      "\n",
      "2 X 4 = 8\n",
      "\n",
      "2 X 5 = 10\n",
      "\n",
      "2 X 6 = 12\n",
      "\n",
      "2 X 7 = 14\n",
      "\n",
      "2 X 8 = 16\n",
      "\n",
      "2 X 9 = 18\n",
      "\n",
      "2 X 10 = 20\n",
      "\n",
      "Do you want to continue printing the table, press 0 for no?1\n",
      "3 X 1 = 3\n",
      "\n",
      "3 X 2 = 6\n",
      "\n",
      "3 X 3 = 9\n",
      "\n",
      "3 X 4 = 12\n",
      "\n",
      "3 X 5 = 15\n",
      "\n",
      "3 X 6 = 18\n",
      "\n",
      "3 X 7 = 21\n",
      "\n",
      "3 X 8 = 24\n",
      "\n",
      "3 X 9 = 27\n",
      "\n",
      "3 X 10 = 30\n",
      "\n",
      "Do you want to continue printing the table, press 0 for no?2\n",
      "4 X 1 = 4\n",
      "\n",
      "4 X 2 = 8\n",
      "\n",
      "4 X 3 = 12\n",
      "\n",
      "4 X 4 = 16\n",
      "\n",
      "4 X 5 = 20\n",
      "\n",
      "4 X 6 = 24\n",
      "\n",
      "4 X 7 = 28\n",
      "\n",
      "4 X 8 = 32\n",
      "\n",
      "4 X 9 = 36\n",
      "\n",
      "4 X 10 = 40\n",
      "\n",
      "Do you want to continue printing the table, press 0 for no?0\n"
     ]
    }
   ],
   "source": [
    "n=2  \n",
    "while 1:  \n",
    "    i=1;  \n",
    "    while i<=10:  \n",
    "        print(f\"{n} X {i} = {n*i}\\n\") \n",
    "        i = i+1 \n",
    "    choice = int(input(\"Do you want to continue printing the table, press 0 for no?\"))  \n",
    "    if choice == 0:  \n",
    "        break;      \n",
    "    n=n+1  \n"
   ]
  },
  {
   "cell_type": "code",
   "execution_count": null,
   "metadata": {},
   "outputs": [],
   "source": []
  },
  {
   "cell_type": "code",
   "execution_count": null,
   "metadata": {},
   "outputs": [],
   "source": []
  },
  {
   "cell_type": "code",
   "execution_count": null,
   "metadata": {},
   "outputs": [],
   "source": []
  },
  {
   "cell_type": "code",
   "execution_count": null,
   "metadata": {},
   "outputs": [],
   "source": []
  },
  {
   "cell_type": "code",
   "execution_count": null,
   "metadata": {},
   "outputs": [],
   "source": []
  },
  {
   "cell_type": "code",
   "execution_count": null,
   "metadata": {},
   "outputs": [],
   "source": []
  }
 ],
 "metadata": {
  "kernelspec": {
   "display_name": "Python 3",
   "language": "python",
   "name": "python3"
  },
  "language_info": {
   "codemirror_mode": {
    "name": "ipython",
    "version": 3
   },
   "file_extension": ".py",
   "mimetype": "text/x-python",
   "name": "python",
   "nbconvert_exporter": "python",
   "pygments_lexer": "ipython3",
   "version": "3.7.3"
  }
 },
 "nbformat": 4,
 "nbformat_minor": 2
}
