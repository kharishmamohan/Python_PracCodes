{
 "cells": [
  {
   "cell_type": "code",
   "execution_count": null,
   "metadata": {},
   "outputs": [],
   "source": [
    "# Shallow copy and deep copy"
   ]
  },
  {
   "cell_type": "markdown",
   "metadata": {},
   "source": [
    "# List"
   ]
  },
  {
   "cell_type": "code",
   "execution_count": 45,
   "metadata": {},
   "outputs": [
    {
     "name": "stdout",
     "output_type": "stream",
     "text": [
      "[1, 2, 3, 100, 20, 300, 40, 56] 4527710792\n",
      "[1, 2, 3, 100, 20, 300, 56] 4527710792\n"
     ]
    }
   ],
   "source": [
    "# List a seq\n",
    "    # List is an ordered collection of elements\n",
    "    # It supports +ve and -ve indexing both\n",
    "    # It supports Slicing\n",
    "    # List can have duplicate elements\n",
    "    # List is a collection of heterogeneous lements\n",
    "    # List is mutable\n",
    "# While defining a list elements should be kept inside the square bracket sepoarated by comma, square bracket is manadtory\n",
    "\n",
    "\n",
    "lst = [10, 10.20, 10+20j, 'Python', None, True, [1,2,3], (10,20,30), {100,200,300}, {1:100, 2:200, 3:300}, 10, 10.20, 10+20j]\n",
    "\n",
    "# Access one element\n",
    "# print(lst[0])\n",
    "# print(lst[-len(lst)])\n",
    "\n",
    "# Access last element\n",
    "# print(lst[-1])\n",
    "# print(lst[len(lst)-1])\n",
    "\n",
    "# Accessing multiple elements in list - slicing create a new object\n",
    "# print(lst[3:6])\n",
    "# print(lst)\n",
    "# print(lst[::])\n",
    "# print(lst is lst[::])\n",
    "\n",
    "# List is Mutable Object - You can modify the existing object\n",
    "# String is immutable object\n",
    "\n",
    "# print(dir(str)) -- # swapcase\n",
    "# print(dir(list))  -- # append\n",
    "\n",
    "# s = 'This is Python'\n",
    "# print(s)\n",
    "# # Modifying the string using method\n",
    "# print(s.swapcase(), id(s.swapcase()))\n",
    "# print(s, id(s))\n",
    "\n",
    "# Modifying the string using assignment operation\n",
    "# s[0] = 't'\n",
    "# print(s, id(s))\n",
    "\n",
    "# NOTE - Immutable object does not support item assignment\n",
    "\n",
    "# print()\n",
    "lst = [1,2,3,100,20,300,40,56]\n",
    "# Modifying the list using method\n",
    "# print(lst, id(lst))\n",
    "# lst.append(1111)     # append method always adds the value at the end of the list\n",
    "# print(lst, id(lst))\n",
    "\n",
    "# Modifying the string using assignment operation\n",
    "# print(lst, id(lst))\n",
    "# lst[0] = 'Python'\n",
    "# print(lst, id(lst))\n",
    "\n",
    "# NOTE - mutable object supports item assignment\n",
    "\n",
    "# Immutable object - not modifiable - Modification happending in the different object - Fundamental data types, Tuple, frozenset, bytes, range\n",
    "# Mutable object- Modifiable - Modification happening in same object - List, set, dictionary, bytearray\n",
    "\n",
    "# append works only on ist and adds the lement at the end of the list\n",
    "# remove works on list and remove the element from the list  - takes only value which you want to remove, remove the first occurence of the value\n",
    "# lst = [1,2,3,100,20,300,40,56]\n",
    "# print(lst, id(lst))\n",
    "# lst.remove(40)\n",
    "# print(lst, id(lst))\n",
    "\n"
   ]
  },
  {
   "cell_type": "code",
   "execution_count": 43,
   "metadata": {},
   "outputs": [
    {
     "name": "stdout",
     "output_type": "stream",
     "text": [
      "False\n",
      "True\n",
      "False\n",
      "[20, [30]]\n",
      "False\n"
     ]
    }
   ],
   "source": [
    "# Shallow and deepcopy - Mutable objects\n",
    "# Aliasing - giveina different name to the existing object\n",
    "# a = 10\n",
    "# b = a\n",
    "# print(a is b)\n",
    "# import sys\n",
    "# lst = [10,20,30,40,50,60]\n",
    "# lst1 = lst                 # Aliasing\n",
    "# print(lst is lst1)\n",
    "# lst1.append(2222)\n",
    "# print('lst1',lst1)\n",
    "# print('lst',lst)\n",
    "\n",
    "# Shallow copy - using either copy() or using slicing\n",
    "# lst2 = lst[::]\n",
    "# print(sys.getsizeof(lst))\n",
    "# print(sys.getsizeof(lst2))\n",
    "# # print(lst2 is lst)\n",
    "# lst2.append(1111)\n",
    "# print(lst2)\n",
    "# print(lst)\n",
    "\n",
    "# lst3 = [1,2,3,[10,20,30]]\n",
    "# lst4 = lst3\n",
    "# lst3.append(100)\n",
    "# print(lst4)\n",
    "# print(lst3)\n",
    "\n",
    "# lst5 = lst3[::]\n",
    "# print(sys.getsizeof(lst5))\n",
    "# lst5.append(100)\n",
    "# print(lst3)\n",
    "# print(lst5)\n",
    "# lst5[-1].append(1000)\n",
    "# print(lst3)\n",
    "# print(lst5)\n",
    "\n",
    "\n",
    "# from copy import deepcopy\n",
    "# lst6 = deepcopy(lst3)\n",
    "# print(sys.getsizeof(lst6))\n",
    "# print(id(lst6),id(lst3))\n",
    "# print(id(lst6[-1]),id(lst3[-1]))\n",
    "# lst6[-1].append(1111)\n",
    "# print(lst3)\n",
    "# print(lst6)\n",
    "\n",
    "from copy import deepcopy\n",
    "lst = [10,[20,[30]]]\n",
    "lst1  = deepcopy(lst)\n",
    "print(lst is lst1)\n",
    "print(lst[0] is lst1[0])\n",
    "print(lst[-1] is lst1[-1])\n",
    "# print(lst[-1])\n",
    "# print(lst[1][0] is lst1[1][0])\n",
    "print(lst[1][1] is lst1[1][1])\n",
    "\n",
    "\n",
    "\n"
   ]
  },
  {
   "cell_type": "code",
   "execution_count": 42,
   "metadata": {},
   "outputs": [
    {
     "name": "stdout",
     "output_type": "stream",
     "text": [
      "[1, 2, 3, [1, 2, 3]]\n",
      "[1, 2, 3, '100']\n"
     ]
    }
   ],
   "source": [
    "lst=[1,2,3,[1,2,3]]\n",
    "lst1=lst[::]\n",
    "lst1[-1]= '100'\n",
    "print(lst)\n",
    "print(lst1)\n",
    "\n",
    "# here  it is not adding '100' to lst. So this creates deep copy. Is it different from append?"
   ]
  },
  {
   "cell_type": "markdown",
   "metadata": {},
   "source": [
    "# Tuple"
   ]
  },
  {
   "cell_type": "code",
   "execution_count": 65,
   "metadata": {},
   "outputs": [
    {
     "name": "stdout",
     "output_type": "stream",
     "text": [
      "(10, 20, 30) <class 'tuple'>\n",
      "(10, 20, 30) <class 'tuple'>\n",
      "True\n",
      "() <class 'tuple'>\n",
      "[] <class 'list'>\n"
     ]
    }
   ],
   "source": [
    "# Tuple is similar to list but is immutable object in Python\n",
    "# Tuple a seq\n",
    "    # Tuple is an ordered collection of elements\n",
    "    # It supports +ve and -ve indexing both\n",
    "    # It supports Slicing\n",
    "    # Tuple can have duplicate elements\n",
    "    # Tuple is a collection of heterogeneous lements\n",
    "    # Tuple is immutable\n",
    "# Parenthesis are used to define a tuple but they are not mandatory, they are optional\n",
    "\n",
    "tpl = (10,20,30)\n",
    "print(tpl, type(tpl))\n",
    "\n",
    "tpl1 = 10,20,30\n",
    "print(tpl1, type(tpl1))\n",
    "\n",
    "# Creating a tuple with single elemnt\n",
    "# tpl2 = 10,\n",
    "# print(tpl2, type(tpl2))\n",
    "\n",
    "# tpl3 = (10,)\n",
    "# print(tpl3, type(tpl3))\n",
    "\n",
    "# tpl4 = (10)\n",
    "# print(tpl4, type(tpl4))\n",
    "\n",
    "# print(dir(str))\n",
    "# print()\n",
    "# print(dir(tpl))\n",
    "\n",
    "\n",
    "from copy import deepcopy\n",
    "tpl = (1,2,3,(10,20,30))\n",
    "tpl1 = tpl\n",
    "# # tpl1 = tpl\n",
    "# # print(tpl1 is tpl)\n",
    "# tpl1 = tpl[::]\n",
    "# # print(tpl1 is tpl)\n",
    "# print(id(tpl1))\n",
    "# print(id(tpl))\n",
    "# tpl2 = (1,2,3,(10,20,30))\n",
    "# print(tpl2 is tpl)\n",
    "tpl1 = deepcopy(tpl)\n",
    "print(tpl1 is tpl)\n",
    "\n",
    "# a = 10\n",
    "# b = 10\n",
    "# a = 10+1\n",
    "\n",
    "# a = 1000\n",
    "# b = 1000\n",
    "\n",
    "a = (10,20,30)\n",
    "b = (10,20,30)\n",
    "\n",
    "# Creating an empty tuple\n",
    "tpl = ()\n",
    "print(tpl, type(tpl))\n",
    "\n",
    "# Creating an empty list\n",
    "lst = []\n",
    "print(lst, type(lst))"
   ]
  },
  {
   "cell_type": "code",
   "execution_count": 76,
   "metadata": {},
   "outputs": [
    {
     "name": "stdout",
     "output_type": "stream",
     "text": [
      "{True, b'\\n\\x14\\x1e', None, (10+20j), 10, 10.2, frozenset({10, 20, 30}), (10, 20, 30), 'Python'}\n",
      "frozenset({True, b'\\n\\x14\\x1e', None, (10+20j), 10, 10.2, frozenset({10, 20, 30}), (10, 20, 30), 'Python'})\n"
     ]
    },
    {
     "ename": "AttributeError",
     "evalue": "'frozenset' object has no attribute 'add'",
     "output_type": "error",
     "traceback": [
      "\u001b[0;31m---------------------------------------------------------------------------\u001b[0m",
      "\u001b[0;31mAttributeError\u001b[0m                            Traceback (most recent call last)",
      "\u001b[0;32m<ipython-input-76-9cee3db77e85>\u001b[0m in \u001b[0;36m<module>\u001b[0;34m\u001b[0m\n\u001b[1;32m     35\u001b[0m \u001b[0mfz\u001b[0m \u001b[0;34m=\u001b[0m \u001b[0mfrozenset\u001b[0m\u001b[0;34m(\u001b[0m\u001b[0ms\u001b[0m\u001b[0;34m)\u001b[0m\u001b[0;34m\u001b[0m\u001b[0;34m\u001b[0m\u001b[0m\n\u001b[1;32m     36\u001b[0m \u001b[0mprint\u001b[0m\u001b[0;34m(\u001b[0m\u001b[0mfz\u001b[0m\u001b[0;34m)\u001b[0m\u001b[0;34m\u001b[0m\u001b[0;34m\u001b[0m\u001b[0m\n\u001b[0;32m---> 37\u001b[0;31m \u001b[0mfz\u001b[0m\u001b[0;34m.\u001b[0m\u001b[0madd\u001b[0m\u001b[0;34m(\u001b[0m\u001b[0;36m100\u001b[0m\u001b[0;34m)\u001b[0m\u001b[0;34m\u001b[0m\u001b[0;34m\u001b[0m\u001b[0m\n\u001b[0m\u001b[1;32m     38\u001b[0m \u001b[0;34m\u001b[0m\u001b[0m\n\u001b[1;32m     39\u001b[0m \u001b[0;34m\u001b[0m\u001b[0m\n",
      "\u001b[0;31mAttributeError\u001b[0m: 'frozenset' object has no attribute 'add'"
     ]
    }
   ],
   "source": [
    "# Set and frozen set - mapping - hash map(Data Structure, key Value) - is npt a seq\n",
    "    # NOT AN ORDERED COLLECTION\n",
    "    # Indxing and slicing is not allowed\n",
    "    # Set is a collection of unique elements\n",
    "    # Set can have only immutable data\n",
    "    # Set is mutable\n",
    "# TO define a set we need to keep the elements in {} separated by comma\n",
    "s = {10,10.20,10+20j, 'Python', None,True, (10,20,30), frozenset([10,20,30]), bytes([10,20,30])}\n",
    "print(s)\n",
    "\n",
    "\n",
    "# lst = [19,1,10,100,1,10,19,19,200,10,100]\n",
    "# lst1 = list(set(lst))\n",
    "# print(lst1)\n",
    "\n",
    "# Creating an empty set\n",
    "# s = {}\n",
    "# print(s, type(s))\n",
    "\n",
    "# s = set()\n",
    "# print(s, type(s))\n",
    "\n",
    "# Mutability - modifuing the set\n",
    "# print(dir(set))\n",
    "# print(s, id(s))\n",
    "# s.add(range(10))\n",
    "# print(s, id(s))\n",
    "\n",
    "# remove\n",
    "# print(s, id(s))\n",
    "# s.remove(None)\n",
    "# print(s, id(s))\n",
    "\n",
    "# Frozenset is immutable set\n",
    "fz = frozenset(s)\n",
    "# print(fz)\n",
    "# fz.add(100)\n",
    "\n",
    "\n"
   ]
  },
  {
   "cell_type": "code",
   "execution_count": 83,
   "metadata": {},
   "outputs": [
    {
     "name": "stdout",
     "output_type": "stream",
     "text": [
      "{'st1': {'name': 'ABC', 'roll_no': 101, 'marks': 200}, 'st2': {'name': 'XYZ', 'roll_no': 102, 'marks': 199}}\n",
      "{'name': 'ABC', 'roll_no': 101, 'marks': 200}\n",
      "200\n",
      "{'st1': {'name': 'ABC', 'roll_no': 101, 'marks': 200}, 'st2': {'name': 'XYZ', 'roll_no': 102, 'marks': 199}} 4527979040\n",
      "{'st1': {'name': 'ABC', 'roll_no': 101, 'marks': 198}, 'st2': {'name': 'XYZ', 'roll_no': 102, 'marks': 199}} 4527979040\n"
     ]
    }
   ],
   "source": [
    "# Dictionary - a mapping and not a sequence\n",
    "# Not an ordered collection of elements\n",
    "# Does not foolws indexing and slicing\n",
    "# Collection key value pair where a key value pair is called an item or element of a dictionary, key value pair are separated by :\n",
    "# key can be only immutable type and can not be duplicated\n",
    "# values can be of any type and can  be duplicated\n",
    "# Dictionary is mutable\n",
    "# items should be kept inside {} separated by comma\n",
    "# You can access the value with key\n",
    "\n",
    "\n",
    "# key : value - item\n",
    "# d = {1:100, 10.20:100.9, 10+20j:100j, 'a':'Python', None:True, True:False, (10,20,30):[10,20,30], 1:11111}\n",
    "# print(d['a'])\n",
    "# print(d)\n",
    "\n",
    "# st1 -> name -> ABC\n",
    "#     -> roll_no -> 101\n",
    "#     -> marks -> 200\n",
    "    \n",
    "# st2 -> name -> XYZ\n",
    "#     -> roll_no -> 102\n",
    "#     -> marks -> 199\n",
    "\n",
    "# d = {'st1':{'name':'ABC', 'roll_no':101, 'marks': 200}, 'st2':{'name':'XYZ', 'roll_no':102, 'marks': 199}}\n",
    "# print(d)\n",
    "# print(d['st1'])\n",
    "# print(d['st1']['marks'])\n",
    "\n",
    "# print(d, id(d))\n",
    "# d['st1']['marks'] = 198\n",
    "# print(d, id(d))\n",
    "    "
   ]
  },
  {
   "cell_type": "markdown",
   "metadata": {},
   "source": [
    "# Heading- esc - m - run"
   ]
  },
  {
   "cell_type": "code",
   "execution_count": 82,
   "metadata": {},
   "outputs": [
    {
     "name": "stdout",
     "output_type": "stream",
     "text": [
      "['__add__', '__class__', '__contains__', '__delattr__', '__delitem__', '__dir__', '__doc__', '__eq__', '__format__', '__ge__', '__getattribute__', '__getitem__', '__gt__', '__hash__', '__iadd__', '__imul__', '__init__', '__init_subclass__', '__iter__', '__le__', '__len__', '__lt__', '__mul__', '__ne__', '__new__', '__reduce__', '__reduce_ex__', '__repr__', '__reversed__', '__rmul__', '__setattr__', '__setitem__', '__sizeof__', '__str__', '__subclasshook__', 'append', 'clear', 'copy', 'count', 'extend', 'index', 'insert', 'pop', 'remove', 'reverse', 'sort']\n"
     ]
    }
   ],
   "source": [
    "lst = [10,20,30]\n",
    "# print(dir(lst))\n",
    "print(lst.append())"
   ]
  },
  {
   "cell_type": "code",
   "execution_count": null,
   "metadata": {},
   "outputs": [],
   "source": []
  },
  {
   "cell_type": "code",
   "execution_count": null,
   "metadata": {},
   "outputs": [],
   "source": []
  },
  {
   "cell_type": "code",
   "execution_count": null,
   "metadata": {},
   "outputs": [],
   "source": []
  },
  {
   "cell_type": "code",
   "execution_count": null,
   "metadata": {},
   "outputs": [],
   "source": []
  },
  {
   "cell_type": "code",
   "execution_count": null,
   "metadata": {},
   "outputs": [],
   "source": []
  }
 ],
 "metadata": {
  "kernelspec": {
   "display_name": "Python 3",
   "language": "python",
   "name": "python3"
  },
  "language_info": {
   "codemirror_mode": {
    "name": "ipython",
    "version": 3
   },
   "file_extension": ".py",
   "mimetype": "text/x-python",
   "name": "python",
   "nbconvert_exporter": "python",
   "pygments_lexer": "ipython3",
   "version": "3.7.3"
  }
 },
 "nbformat": 4,
 "nbformat_minor": 2
}
