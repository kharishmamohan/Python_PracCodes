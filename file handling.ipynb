{
 "cells": [
  {
   "cell_type": "code",
   "execution_count": 3,
   "metadata": {},
   "outputs": [
    {
     "name": "stdout",
     "output_type": "stream",
     "text": [
      "10\n",
      "20\n",
      "20\n"
     ]
    }
   ],
   "source": [
    "# def my_gen():\n",
    "#     yield 10\n",
    "#     yield 20\n",
    "#     yield 20\n",
    "# for i in my_gen():\n",
    "#     print(i)\n"
   ]
  },
  {
   "cell_type": "markdown",
   "metadata": {},
   "source": [
    "# File Handling in Python - text file and Binary file"
   ]
  },
  {
   "cell_type": "code",
   "execution_count": null,
   "metadata": {},
   "outputs": [],
   "source": [
    "# Open a file\n",
    "# read a file\n",
    "# write into a file\n",
    "# close the file\n",
    "\n",
    "# f = open('path/file_name.extnesion', 'mode')\n",
    "# f.read()\n",
    "# f.close()\n",
    "\n",
    "\n",
    "# Text file\n",
    "# Read mode - r\n",
    "# Write Mode - w\n",
    "# Append mode - a\n",
    "# read and write mode - r+\n",
    "# write and read mode - w+\n",
    "# append and read mode - a+\n",
    "\n",
    "\n",
    "# # Binary file\n",
    "# Read mode - rb\n",
    "# Write Mode - wb\n",
    "# Append mode - ab\n",
    "# read and write mode - r+b, rb+\n",
    "# write and read mode - w+b\n",
    "# append and read mode - a+b"
   ]
  },
  {
   "cell_type": "code",
   "execution_count": 9,
   "metadata": {},
   "outputs": [
    {
     "name": "stdout",
     "output_type": "stream",
     "text": [
      "0\n",
      "#!/usr/bin/env python\n",
      "# coding: utf-8\n",
      "\n",
      "# In[4]:\n",
      "\n",
      "\n",
      "n1 = 100\n",
      "n2 = 200\n",
      "\n",
      "\n",
      "# In[5]:\n",
      "\n",
      "\n",
      "def fibonacci():\n",
      "    \"\"\"Fibonacci numbers generator\"\"\"\n",
      "    a, b = 0, 1\n",
      "    while True:\n",
      "        yield a\n",
      "        a, b = b, a + b\n",
      "\n",
      "\n",
      "# In[6]:\n",
      "\n",
      "\n",
      "def my_func():\n",
      "#     stat1\n",
      "#     stat2\n",
      "    yield 10\n",
      "    yield 10.20\n",
      "    yield 10+20j\n",
      "    yield 'Python'\n",
      "    yield True\n",
      "    \n",
      "    \n",
      "\n",
      "\n",
      "# In[15]:\n",
      "\n",
      "\n",
      "print(__name__)\n",
      "if __name__ == '__main__':\n",
      "    print('Fibonacci Series')\n",
      "    f = fibonacci()\n",
      "\n",
      "    counter = 0\n",
      "    for x in f:\n",
      "        print(x)\n",
      "        counter += 1\n",
      "        if (counter > 11): break \n",
      "    print()\n",
      "\n",
      "    print()\n",
      "    print()\n",
      "    print()\n",
      "    print('Generator')\n",
      "    g = my_func()\n",
      "    # print(next(g))\n",
      "    # print(next(g))\n",
      "\n",
      "    for i in g:\n",
      "        print(i)\n",
      "\n",
      "# print(dir())\n",
      "\n",
      "HelooHeloo\n",
      "755\n",
      "763\n",
      "0\n"
     ]
    }
   ],
   "source": [
    "# Read mode - r\n",
    "# If you open a file in read mode and if file exist then it will open the file and places the cursor at the begining.\n",
    "# If you open a file in read mode and if file does not exist then it will give you the FileNotFoundError.\n",
    "# Only reading is allowed, writing into the file is unsupported operation\n",
    "\n",
    "# Read and Write mode - r+\n",
    "# If you open a file in read mode and if file exist then it will open the file and places the cursor at the begining.\n",
    "# If you open a file in read mode and if file does not exist then it will give you the FileNotFoundError.\n",
    "# reading and writing both are allowed\n",
    "\n",
    "\n",
    "# When file does not exist gives FileNotFoundError\n",
    "# f = open('f1.py', 'r')\n",
    "# print(f.read())\n",
    "# f.close()\n",
    "\n",
    "\n",
    "# If file exist then opens the file\n",
    "# f = open('my_mod.py', 'r')\n",
    "# print(f.read())\n",
    "# # Trying to write into a file after opening in \"r mode\"\n",
    "# f.write('Heloo')\n",
    "# f.close()\n",
    "\n",
    "\n",
    "# f = open('my_mod.py', 'r+')\n",
    "# print(f.tell())\n",
    "# print(f.read())\n",
    "# print(f.tell())\n",
    "# # Trying to write into a file after opening in \"r mode\"\n",
    "# f.write('n3 = 300')\n",
    "# print(f.tell())\n",
    "# f.seek(0)\n",
    "# print(f.tell())\n",
    "# f.close()\n",
    "\n",
    "\n",
    "\n"
   ]
  },
  {
   "cell_type": "code",
   "execution_count": 10,
   "metadata": {},
   "outputs": [
    {
     "name": "stdout",
     "output_type": "stream",
     "text": [
      "#!/usr/bin/env python\n",
      "# coding: utf-8\n",
      "\n",
      "# In[4]:\n",
      "\n",
      "\n",
      "n1 = 100\n",
      "n2 = 200\n",
      "\n",
      "\n",
      "# In[5]:\n",
      "\n",
      "\n",
      "def fibonacci():\n",
      "    \"\"\"Fibonacci numbers generator\"\"\"\n",
      "    a, b = 0, 1\n",
      "    while True:\n",
      "        yield a\n",
      "        a, b = b, a + b\n",
      "\n",
      "\n",
      "# In[6]:\n",
      "\n",
      "\n",
      "def my_func():\n",
      "#     stat1\n",
      "#     stat2\n",
      "    yield 10\n",
      "    yield 10.20\n",
      "    yield 10+20j\n",
      "    yield 'Python'\n",
      "    yield True\n",
      "    \n",
      "    \n",
      "\n",
      "\n",
      "# In[15]:\n",
      "\n",
      "\n",
      "print(__name__)\n",
      "if __name__ == '__main__':\n",
      "    print('Fibonacci Series')\n",
      "    f = fibonacci()\n",
      "\n",
      "    counter = 0\n",
      "    for x in f:\n",
      "        print(x)\n",
      "        counter += 1\n",
      "        if (counter > 11): break \n",
      "    print()\n",
      "\n",
      "    print()\n",
      "    print()\n",
      "    print()\n",
      "    print('Generator')\n",
      "    g = my_func()\n",
      "    # print(next(g))\n",
      "    # print(next(g))\n",
      "\n",
      "    for i in g:\n",
      "        print(i)\n",
      "\n",
      "# print(dir())\n",
      "\n",
      "HelooHeloon3 = 300\n"
     ]
    }
   ],
   "source": [
    "# Using with statment:-\n",
    "with open('my_mod.py', 'r') as f:\n",
    "    print(f.read())"
   ]
  },
  {
   "cell_type": "code",
   "execution_count": 15,
   "metadata": {},
   "outputs": [
    {
     "name": "stdout",
     "output_type": "stream",
     "text": [
      "0\n",
      "14\n",
      "Hello World!!!\n"
     ]
    }
   ],
   "source": [
    "# Write Mode - w\n",
    "\n",
    "\n",
    "# If you open a file in write mode and if file exist then it will open the file and places the cursor at the begining fo the file after deleting the content of the file.\n",
    "# If you open a file in write mode and if file does not exist then it will create a file with the same name and places the cursor at the begining of the file \n",
    "# Only writing is allowed, reading file the file is unsupported operation\n",
    "\n",
    "\n",
    "\n",
    "# write and read mode - w+\n",
    "\n",
    "# If you open a file in write mode and if file exist then it will open the file and places the cursor at the begining fo the file after deleting the content of the file.\n",
    "# If you open a file in write mode and if file does not exist then it will create a file with the same name and places the cursor at the begining of the file \n",
    "# Only writing and reading both are allowed\n",
    "\n",
    "# f = open('my_mod.py', 'w')\n",
    "# print(f.tell())\n",
    "# f.write('Hello World!!!')\n",
    "# print(f.read())  # UnsupportedOperation\n",
    "# f.close()\n",
    "\n",
    "\n",
    "# f = open('my_mod.py', 'w+')\n",
    "# print(f.tell())\n",
    "# f.write('Hello World!!!')\n",
    "# print(f.tell())\n",
    "# f.seek(0)\n",
    "# print(f.read()) \n",
    "# f.close()\n",
    "\n",
    "\n",
    "\n"
   ]
  },
  {
   "cell_type": "code",
   "execution_count": 30,
   "metadata": {},
   "outputs": [
    {
     "name": "stdout",
     "output_type": "stream",
     "text": [
      "2111\n",
      "What is Lorem Ipsum?\n",
      "Lorem Ipsum is simply dummy text of the printing and typesetting industry. Lorem Ipsum has been the industry's standard dummy text ever since the 1500s, when an unknown printer took a galley of type and scrambled it to make a type specimen book. It has survived not only five centuries, but also the leap into electronic typesetting, remaining essentially unchanged. It was popularised in the 1960s with the release of Letraset sheets containing Lorem Ipsum passages, and more recently with desktop publishing software like Aldus PageMaker including versions of Lorem Ipsum.\n",
      "\n",
      "Why do we use it?\n",
      "It is a long established fact that a reader will be distracted by the readable content of a page when looking at its layout. The point of using Lorem Ipsum is that it has a more-or-less normal distribution of letters, as opposed to using 'Content here, content here', making it look like readable English. Many desktop publishing packages and web page editors now use Lorem Ipsum as their default model text, and a search for 'lorem ipsum' will uncover many web sites still in their infancy. Various versions have evolved over the years, sometimes by accident, sometimes on purpose (injected humour and the like).\n",
      "\n",
      "# If you open a file in write mode and if file exist then it will open the file and places the cursor at the begining fo the file after deleting the content of the file.\n",
      "# # If you open a file in write mode and if file does not exist then it will create a file with the same name and places the cursor at the begining of the file \n",
      "# # Only writing and reading both are allowed\n",
      "\n",
      "# If you open a file in write mode and if file exist then it will open the file and places the cursor at the begining fo the file after deleting the content of the file.If you open a file in write mode and if file exist then it will open the file and places the cursor at the begining fo the file after deleting the content of the file.If you open a file in write mode and if file exist then it will open the file and places the cursor at the begining fo the file after deleting the content of the file.\n",
      "2111\n"
     ]
    }
   ],
   "source": [
    "# append - a\n",
    "\n",
    "\n",
    "# If you open a file in append mode and if file exist then it will open the file and places the cursor at the end of the file.\n",
    "# If you open a file in append mode and if file does not exist then it will create a file with the same name and places the cursor at the begining of the file.\n",
    "# Only writing is allowed, reading file the file is unsupported operation, But it will alway write the conetnt at the end of the file\n",
    "\n",
    "# append and read mode - a+\n",
    "# If you open a file in append mode and if file exist then it will open the file and places the cursor at the end of the file.\n",
    "# If you open a file in append mode and if file does not exist then it will create a file with the same name and places the cursor at the begining of the file.\n",
    "# Only writing and reading both are allowed\n",
    "\n",
    "# f = open('my_mod.py', 'a')\n",
    "# print(f.tell())\n",
    "# f.seek(0)\n",
    "# print(f.tell())\n",
    "# # print(f.read())\n",
    "# f.write('''\\n\\n# If you open a file in write mode and if file exist then it will open the file and places the cursor at the begining fo the file after deleting the content of the file.\n",
    "# # If you open a file in write mode and if file does not exist then it will create a file with the same name and places the cursor at the begining of the file \n",
    "# # Only writing and reading both are allowed''')\n",
    "# f.close()\n",
    "\n",
    "f = open('abc.txt', 'a+')\n",
    "print(f.tell())\n",
    "f.seek(0)\n",
    "print(f.read())\n",
    "print(f.tell())\n",
    "# f.write('If you open a file in write mode and if file exist then it will open the file and places the cursor at the begining fo the file after deleting the content of the file.')\n",
    "f.close()"
   ]
  },
  {
   "cell_type": "code",
   "execution_count": 33,
   "metadata": {},
   "outputs": [
    {
     "name": "stdout",
     "output_type": "stream",
     "text": [
      "0\n"
     ]
    }
   ],
   "source": [
    "f = open('abc.txt', 'r+')\n",
    "print(f.tell())\n",
    "# print(f.read())\n",
    "f.write('If you open a file in write mode and if file exist then it will open the file and places the cursor at the begining fo the file after deleting the content of the file.\\n\\n')\n",
    "f.close()"
   ]
  },
  {
   "cell_type": "code",
   "execution_count": null,
   "metadata": {},
   "outputs": [],
   "source": [
    "# Bianry - images, pdf,audio\n",
    "# read - rb\n",
    "# write - wb\n",
    "# apeending - ab\n",
    "# reading and writing - rb+\n",
    "# writing and reading - wb+\n",
    "# appending and reading - ab+"
   ]
  },
  {
   "cell_type": "code",
   "execution_count": 41,
   "metadata": {},
   "outputs": [
    {
     "name": "stdout",
     "output_type": "stream",
     "text": [
      "['What is Lorem Ipsum?\\n', 'Lorem Ipsum is simply dummy text of the printing and typesetting industry. \\n', \"\\\\Lorem Ipsum has been the industry's standard dummy text ever since the 1500s, when an unknown printer took a galley of type and scrambled it to make a type specimen book. \\n\", 'It has survived not only five centuries, but also the leap into electronic typesetting, remaining essentially unchanged. \\n', 'It was popularised in the 1960s with the release of Letraset sheets containing Lorem Ipsum passages, and more recently with desktop publishing software like Aldus PageMaker including versions of Lorem Ipsum.\\n', '\\n', 'Why do we use it?\\n', 'It is a long established fact that a reader will be distracted by the readable content of a page when looking at its layout. \\n', \"The point of using Lorem Ipsum is that it has a more-or-less normal distribution of letters, as opposed to using 'Content here, content here', making it look like readable English. Many desktop publishing packages and web page editors now use Lorem Ipsum as their default model text, and a search for 'lorem ipsum' will uncover many web sites still in their infancy. \\n\", 'Various versions have evolved over the years, sometimes by accident, sometimes on purpose (injected humour and the like).\\n', 'If you open a file in write mode and if file exist then it will open the file and places the cursor at the begining fo the file after deleting the content of the file.']\n",
      "\n",
      "<class 'list'>\n"
     ]
    }
   ],
   "source": [
    "# methods to read the data\n",
    "# read() - reads the whole content of the file and returns an string obejct\n",
    "# read(num of char) - reads the specified no of characters of the file and returns an string obejct\n",
    "# readline() - reads one line at a tie and returns a string objetc\n",
    "# readlines() - reads all the line formthe file and returns list of strings where every tring will be one line\n",
    "\n",
    "f = open('abc.txt', 'r')\n",
    "out_data = f.readlines()\n",
    "print(out_data)\n",
    "print()\n",
    "print(type(out_data))\n",
    "# print(dir(f))\n",
    "f.close()\n",
    "\n",
    "\n",
    "# new.jpeg\n",
    "\n",
    "no. of car, no of words and no of lines\n"
   ]
  },
  {
   "cell_type": "code",
   "execution_count": 42,
   "metadata": {},
   "outputs": [
    {
     "name": "stdout",
     "output_type": "stream",
     "text": [
      "What is Lorem Ipsum?\n",
      "Lorem Ipsum is simply dummy text of the printing and typesetting industry. \n",
      "\\Lorem Ipsum has been the industry's standard dummy text ever since the 1500s, when an unknown printer took a galley of type and scrambled it to make a type specimen book. \n",
      "It has survived not only five centuries, but also the leap into electronic typesetting, remaining essentially unchanged. \n",
      "It was popularised in the 1960s with the release of Letraset sheets containing Lorem Ipsum passages, and more recently with desktop publishing software like Aldus PageMaker including versions of Lorem Ipsum.\n",
      "\n",
      "Why do we use it?\n",
      "It is a long established fact that a reader will be distracted by the readable content of a page when looking at its layout. \n",
      "The point of using Lorem Ipsum is that it has a more-or-less normal distribution of letters, as opposed to using 'Content here, content here', making it look like readable English. Many desktop publishing packages and web page editors now use Lorem Ipsum as their default model text, and a search for 'lorem ipsum' will uncover many web sites still in their infancy. \n",
      "Various versions have evolved over the years, sometimes by accident, sometimes on purpose (injected humour and the like).\n",
      "If you open a file in write mode and if file exist then it will open the file and places the cursor at the begining fo the file after deleting the content of the file.\n"
     ]
    }
   ],
   "source": [
    "# methods to write the data\n",
    "# write('str') - takes a string as inpt and writes it into a file\n",
    "# writelines(list of string)\n",
    "\n",
    "\n",
    "my_lst = ['What is Lorem Ipsum?\\n', 'Lorem Ipsum is simply dummy text of the printing and typesetting industry. \\n', \"\\\\Lorem Ipsum has been the industry's standard dummy text ever since the 1500s, when an unknown printer took a galley of type and scrambled it to make a type specimen book. \\n\", 'It has survived not only five centuries, but also the leap into electronic typesetting, remaining essentially unchanged. \\n', 'It was popularised in the 1960s with the release of Letraset sheets containing Lorem Ipsum passages, and more recently with desktop publishing software like Aldus PageMaker including versions of Lorem Ipsum.\\n', '\\n', 'Why do we use it?\\n', 'It is a long established fact that a reader will be distracted by the readable content of a page when looking at its layout. \\n', \"The point of using Lorem Ipsum is that it has a more-or-less normal distribution of letters, as opposed to using 'Content here, content here', making it look like readable English. Many desktop publishing packages and web page editors now use Lorem Ipsum as their default model text, and a search for 'lorem ipsum' will uncover many web sites still in their infancy. \\n\", 'Various versions have evolved over the years, sometimes by accident, sometimes on purpose (injected humour and the like).\\n', 'If you open a file in write mode and if file exist then it will open the file and places the cursor at the begining fo the file after deleting the content of the file.']\n",
    "f = open('xyz.txt', 'w+')\n",
    "f.writelines(my_lst)\n",
    "f.seek(0)\n",
    "print(f.read())\n",
    "f.close()\n",
    "\n",
    "\n"
   ]
  },
  {
   "cell_type": "code",
   "execution_count": 44,
   "metadata": {},
   "outputs": [],
   "source": [
    "with open('download.jpeg', 'rb') as f:\n",
    "    with open('new.jpeg', 'wb') as f1:\n",
    "        d_read = f.read()\n",
    "        f1.write(d_read)\n",
    "        "
   ]
  },
  {
   "cell_type": "code",
   "execution_count": 37,
   "metadata": {},
   "outputs": [
    {
     "name": "stdout",
     "output_type": "stream",
     "text": [
      "Lines =  9\n",
      "Words =  283\n",
      "Characters =  1317\n"
     ]
    }
   ],
   "source": [
    "c_count = 0\n",
    "w_count = 0\n",
    "l_count = 0\n",
    "with open('my_mod.py', 'r') as f:\n",
    "    for line in f.readlines():\n",
    "        l_count += 1\n",
    "        for word in line.split():\n",
    "            w_count += 1\n",
    "            for char in word:\n",
    "                c_count += 1\n",
    "    print(\"Lines = \", l_count)\n",
    "    print(\"Words = \", w_count)\n",
    "    print(\"Characters = \", c_count)"
   ]
  },
  {
   "cell_type": "code",
   "execution_count": 31,
   "metadata": {},
   "outputs": [
    {
     "name": "stdout",
     "output_type": "stream",
     "text": [
      "line count = 9\n",
      "Word count = 283\n",
      "Char count = 1317\n"
     ]
    }
   ],
   "source": [
    "l_count = 0\n",
    "w_count = 0\n",
    "c_count = 0\n",
    "with open('my_mod.py', 'r+') as f:\n",
    "    for line in f.readlines():\n",
    "        l_count += 1\n",
    "        for word in line.split():\n",
    "            w_count += 1\n",
    "            for char in word:\n",
    "                c_count += 1\n",
    "    print(f\"line count = {l_count}\")\n",
    "    print(f\"Word count = {w_count}\")\n",
    "    print(f\"Char count = {c_count}\")"
   ]
  },
  {
   "cell_type": "markdown",
   "metadata": {},
   "source": [
    "![Image](new.jpeg \"icon\")"
   ]
  },
  {
   "cell_type": "markdown",
   "metadata": {},
   "source": [
    "[example](https://www.google.com/imgres?imgurl=https%3A%2F%2Fwww.filepicker.io%2Fapi%2Ffile%2FBFMMlbcQvml9HSqXcvNp&imgrefurl=https%3A%2F%2Fcodewithmosh.com%2Fp%2Fpython-programming-course-beginners&tbnid=dKsBJnDbw7DH5M&vet=12ahUKEwjTisuu9qPrAhUY-TgGHWueCXMQMygEegUIARDUAQ..i&docid=tA9LO82yvMuPTM&w=2000&h=1126&q=python%20image&ved=2ahUKEwjTisuu9qPrAhUY-TgGHWueCXMQMygEegUIARDUAQ)"
   ]
  },
  {
   "cell_type": "code",
   "execution_count": null,
   "metadata": {},
   "outputs": [],
   "source": []
  },
  {
   "cell_type": "code",
   "execution_count": null,
   "metadata": {},
   "outputs": [],
   "source": []
  }
 ],
 "metadata": {
  "kernelspec": {
   "display_name": "Python 3",
   "language": "python",
   "name": "python3"
  },
  "language_info": {
   "codemirror_mode": {
    "name": "ipython",
    "version": 3
   },
   "file_extension": ".py",
   "mimetype": "text/x-python",
   "name": "python",
   "nbconvert_exporter": "python",
   "pygments_lexer": "ipython3",
   "version": "3.7.3"
  }
 },
 "nbformat": 4,
 "nbformat_minor": 2
}
