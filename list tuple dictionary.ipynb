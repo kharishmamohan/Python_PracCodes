{
 "cells": [
  {
   "cell_type": "code",
   "execution_count": null,
   "metadata": {},
   "outputs": [],
   "source": [
    "# 'center',  'encode', 'expandtabs',  'format', 'format_map',\n",
    "# '  'ljust',  'maketrans', 'partition', \n",
    "#   'rjust', 'rpartition', 'splitlines', \n",
    "#  'translate', 'zfill'"
   ]
  },
  {
   "cell_type": "code",
   "execution_count": 7,
   "metadata": {},
   "outputs": [],
   "source": [
    "# 'count', 'find', 'rfind', 'rindex', 'index', \n",
    "\n",
    "my_str = 'peter piper picked a peck of pickled peppers.'\n",
    "# print(my_str.count('p', 10, 15))\n",
    "# print(my_str.count())\n",
    "\n",
    "\n",
    "\n"
   ]
  },
  {
   "cell_type": "code",
   "execution_count": 8,
   "metadata": {},
   "outputs": [
    {
     "name": "stdout",
     "output_type": "stream",
     "text": [
      "peter piper picked a peck of pickled peppers.\n",
      "         peter piper picked a peck of pickled peppers.\n",
      "peter piper picked a peck of pickled peppers.       \n"
     ]
    }
   ],
   "source": [
    "# 'strip', 'rstrip', 'lstrip', - removes the unneccessary spaces from the string, but won't remove the spaces from in between the string\n",
    "\n",
    "my_str = '         peter piper picked a peck of pickled peppers.       '\n",
    "print(my_str.strip())      # Will remove the spaces from the both sides\n",
    "print(my_str.rstrip())      # Will remove the spaces from the right sides\n",
    "print(my_str.lstrip())      # Will remove the spaces from the left sides\n",
    "\n"
   ]
  },
  {
   "cell_type": "code",
   "execution_count": 35,
   "metadata": {},
   "outputs": [
    {
     "name": "stdout",
     "output_type": "stream",
     "text": [
      "['peter', 'piper', 'picked', 'a', 'peck', 'of', 'pickled', 'peppers.']\n"
     ]
    },
    {
     "data": {
      "text/plain": [
       "'peppers.-->pickled-->of-->peck-->a-->picked-->piper-->peter'"
      ]
     },
     "execution_count": 35,
     "metadata": {},
     "output_type": "execute_result"
    }
   ],
   "source": [
    "#  'rsplit',  'split', 'join',\n",
    "# my_str = '         peter piper picked a peck of pickled peppers.       '.strip()\n",
    "# print(my_str.split())\n",
    "# print(my_str)\n",
    "\n",
    "my_str = 'peter piper picked a peck of pickled peppers.'\n",
    "# print(my_str.split(maxsplit=  4))\n",
    "# print(my_str.rsplit(maxsplit=  4))\n",
    "\n",
    "out_lst = my_str.split()\n",
    "print(out_lst)\n",
    "\n",
    "\n",
    "#syntax of join:- 'sep'.join(lst) - joins a list into a string\n",
    "# '-->'.join(out_lst[::-1])\n",
    "\n",
    "\n",
    "\n",
    "\n"
   ]
  },
  {
   "cell_type": "code",
   "execution_count": 17,
   "metadata": {},
   "outputs": [
    {
     "name": "stdout",
     "output_type": "stream",
     "text": [
      "['peter', 'piper', 'picked', 'a', 'peck', 'of', 'pickled', 'peppers']\n"
     ]
    }
   ],
   "source": [
    "my_str = 'peter piper picked a peck of pickled peppers.'\n",
    "out_str = ''\n",
    "out_lst = []\n",
    "for i in my_str:\n",
    "    if i == ' ' or my_str.rindex(i) == (len(my_str)-1):\n",
    "        out_lst.append(out_str)\n",
    "        out_str = ''\n",
    "    else:\n",
    "        out_str = out_str + i\n",
    "print(out_lst)"
   ]
  },
  {
   "cell_type": "code",
   "execution_count": 46,
   "metadata": {},
   "outputs": [
    {
     "name": "stdout",
     "output_type": "stream",
     "text": [
      ".sreppep delkcip fo kcep a dekcip repip retep\n"
     ]
    }
   ],
   "source": [
    "# 'replace',\n",
    "my_str = 'peter piper picked a peck of pickled peppers.'\n",
    "# sub_str = 'p'\n",
    "# new_str = 'z'\n",
    "# print(my_str.replace(sub_str, new_str, 4))   # replaces all the occurece\n",
    "\n",
    "print(''.join(reversed(my_str)))\n"
   ]
  },
  {
   "cell_type": "code",
   "execution_count": 40,
   "metadata": {},
   "outputs": [],
   "source": [
    "# print(dir(str))"
   ]
  },
  {
   "cell_type": "code",
   "execution_count": 47,
   "metadata": {},
   "outputs": [
    {
     "name": "stdout",
     "output_type": "stream",
     "text": [
      "['__add__', '__class__', '__contains__', '__delattr__', '__delitem__', '__dir__', '__doc__', '__eq__', '__format__', '__ge__', '__getattribute__', '__getitem__', '__gt__', '__hash__', '__iadd__', '__imul__', '__init__', '__init_subclass__', '__iter__', '__le__', '__len__', '__lt__', '__mul__', '__ne__', '__new__', '__reduce__', '__reduce_ex__', '__repr__', '__reversed__', '__rmul__', '__setattr__', '__setitem__', '__sizeof__', '__str__', '__subclasshook__', 'append', 'clear', 'copy', 'count', 'extend', 'index', 'insert', 'pop', 'remove', 'reverse', 'sort']\n"
     ]
    }
   ],
   "source": [
    "# List methods\n",
    "# print(dir(list))\n",
    "# \n",
    "\n",
    "\n"
   ]
  },
  {
   "cell_type": "code",
   "execution_count": 60,
   "metadata": {},
   "outputs": [
    {
     "name": "stdout",
     "output_type": "stream",
     "text": [
      "[10, 20, 30, 40, (100, 200, 300)]\n",
      "[1, 2, 3, 111, 222, 333, 444]\n"
     ]
    }
   ],
   "source": [
    "# add the element/s in the list - append, insert, extend\n",
    "lst = [10,20,30, 40]\n",
    "# adding the 100 at the end of the list\n",
    "# print(lst, id(lst))\n",
    "# lst.append(100)\n",
    "# print(lst, id(lst))\n",
    "\n",
    "# Inserting an element at a particular index\n",
    "# lst.insert(2, 1111)\n",
    "# print(lst)\n",
    "\n",
    "lst1 = [1,2,3]\n",
    "# print(lst+lst1)\n",
    "# print(lst)\n",
    "# print(lst1)\n",
    "# Extending lst1 into lst\n",
    "# lst.extend(lst1)\n",
    "# print(lst)\n",
    "# print(lst1)\n",
    "# lst1.extend(lst)\n",
    "# print(lst1)\n",
    "\n",
    "lst.append((100,200,300))\n",
    "lst1.extend([111,222,333,444])\n",
    "print(lst)\n",
    "print(lst1)\n",
    "\n",
    "\n",
    "\n"
   ]
  },
  {
   "cell_type": "code",
   "execution_count": 65,
   "metadata": {},
   "outputs": [
    {
     "name": "stdout",
     "output_type": "stream",
     "text": [
      "6\n",
      "4\n"
     ]
    }
   ],
   "source": [
    "lst = [1,10,100,20,10,1,1000,200,20,10,1,10,10,10]\n",
    "print(lst.count(10))\n",
    "print(lst.index(10, 2))\n",
    "# print(lst.index(1111, 2))\n",
    "\n",
    "# We do not have rinex and find method"
   ]
  },
  {
   "cell_type": "code",
   "execution_count": 72,
   "metadata": {},
   "outputs": [
    {
     "name": "stdout",
     "output_type": "stream",
     "text": [
      "{1: 100, 2: 200}\n",
      "(10+20j)\n",
      "[10, 20.2, None, True, [10, 20, 30], (10, 20, 30), {10, 20, 30}]\n",
      "[]\n"
     ]
    }
   ],
   "source": [
    "# 'pop', 'remove', 'clear',\n",
    "\n",
    "lst = [10,20.20, 10+20j, 'Python', None, True, [10,20,30], (10,20,30), {10,20,30}, {1:100, 2:200}]\n",
    "print(lst.pop())  # By default i will remove th elast element\n",
    "# print(lst)\n",
    "print(lst.pop(2))   # removes the value at this index\n",
    "\n",
    "lst.remove('Python')\n",
    "print(lst)\n",
    "\n",
    "# clear method clears a list but does not deletes the list object\n",
    "lst.clear()\n",
    "print(lst)\n"
   ]
  },
  {
   "cell_type": "code",
   "execution_count": 74,
   "metadata": {},
   "outputs": [
    {
     "name": "stdout",
     "output_type": "stream",
     "text": [
      "False\n",
      "True\n"
     ]
    }
   ],
   "source": [
    "# copy method is used to create a shallow copy\n",
    "lst = [10,20.20, 10+20j, 'Python', None, True, [10,20,30], (10,20,30), {10,20,30}, {1:100, 2:200}]\n",
    "lst1 = lst.copy()\n",
    "print(lst1 is lst)\n",
    "print(lst[6] is lst1[6])\n"
   ]
  },
  {
   "cell_type": "code",
   "execution_count": 80,
   "metadata": {},
   "outputs": [
    {
     "name": "stdout",
     "output_type": "stream",
     "text": [
      "[10, 20.2, (10+20j), 'Python', None, True, [10, 20, 30], (10, 20, 30), {10, 20, 30}, {1: 100, 2: 200}] 4413820168\n",
      "[{1: 100, 2: 200}, {10, 20, 30}, (10, 20, 30), [10, 20, 30], True, None, 'Python', (10+20j), 20.2, 10] 4413820168\n"
     ]
    }
   ],
   "source": [
    "#  'reverse', 'sort'\n",
    "lst = [10,20.20, 10+20j, 'Python', None, True, [10,20,30], (10,20,30), {10,20,30}, {1:100, 2:200}]\n",
    "print(lst, id(lst))\n",
    "lst.reverse()\n",
    "print(lst, id(lst))\n"
   ]
  },
  {
   "cell_type": "code",
   "execution_count": 84,
   "metadata": {},
   "outputs": [
    {
     "ename": "TypeError",
     "evalue": "'<' not supported between instances of 'int' and 'list'",
     "output_type": "error",
     "traceback": [
      "\u001b[0;31m---------------------------------------------------------------------------\u001b[0m",
      "\u001b[0;31mTypeError\u001b[0m                                 Traceback (most recent call last)",
      "\u001b[0;32m<ipython-input-84-e7b183147e02>\u001b[0m in \u001b[0;36m<module>\u001b[0;34m\u001b[0m\n\u001b[1;32m      1\u001b[0m \u001b[0mlst\u001b[0m \u001b[0;34m=\u001b[0m \u001b[0;34m[\u001b[0m\u001b[0;36m1\u001b[0m\u001b[0;34m,\u001b[0m\u001b[0;36m10\u001b[0m\u001b[0;34m,\u001b[0m\u001b[0;36m100\u001b[0m\u001b[0;34m,\u001b[0m\u001b[0;36m20\u001b[0m\u001b[0;34m,\u001b[0m\u001b[0;36m10\u001b[0m\u001b[0;34m,\u001b[0m\u001b[0;36m1\u001b[0m\u001b[0;34m,\u001b[0m\u001b[0;36m1000\u001b[0m\u001b[0;34m,\u001b[0m\u001b[0;36m200\u001b[0m\u001b[0;34m,\u001b[0m\u001b[0;36m20\u001b[0m\u001b[0;34m,\u001b[0m\u001b[0;36m10\u001b[0m\u001b[0;34m,\u001b[0m\u001b[0;36m1\u001b[0m\u001b[0;34m,\u001b[0m\u001b[0;34m[\u001b[0m\u001b[0;36m10\u001b[0m\u001b[0;34m,\u001b[0m\u001b[0;36m10\u001b[0m\u001b[0;34m,\u001b[0m\u001b[0;36m10\u001b[0m\u001b[0;34m]\u001b[0m\u001b[0;34m]\u001b[0m\u001b[0;34m\u001b[0m\u001b[0;34m\u001b[0m\u001b[0m\n\u001b[1;32m      2\u001b[0m \u001b[0;31m# Default sorting is ascending order\u001b[0m\u001b[0;34m\u001b[0m\u001b[0;34m\u001b[0m\u001b[0;34m\u001b[0m\u001b[0m\n\u001b[0;32m----> 3\u001b[0;31m \u001b[0mlst\u001b[0m\u001b[0;34m.\u001b[0m\u001b[0msort\u001b[0m\u001b[0;34m(\u001b[0m\u001b[0mreverse\u001b[0m \u001b[0;34m=\u001b[0m \u001b[0;32mTrue\u001b[0m\u001b[0;34m)\u001b[0m\u001b[0;34m\u001b[0m\u001b[0;34m\u001b[0m\u001b[0m\n\u001b[0m\u001b[1;32m      4\u001b[0m \u001b[0mprint\u001b[0m\u001b[0;34m(\u001b[0m\u001b[0mlst\u001b[0m\u001b[0;34m)\u001b[0m\u001b[0;34m\u001b[0m\u001b[0;34m\u001b[0m\u001b[0m\n",
      "\u001b[0;31mTypeError\u001b[0m: '<' not supported between instances of 'int' and 'list'"
     ]
    }
   ],
   "source": [
    "lst = [1,10,100,20,10,1,1000,200,20,10,1,10,10,10]\n",
    "# Default sorting is ascending order\n",
    "lst.sort(reverse = True)\n",
    "print(lst)"
   ]
  },
  {
   "cell_type": "markdown",
   "metadata": {},
   "source": [
    "# Tuple "
   ]
  },
  {
   "cell_type": "code",
   "execution_count": 94,
   "metadata": {},
   "outputs": [
    {
     "name": "stdout",
     "output_type": "stream",
     "text": [
      "(1, 10, 20, 10, 1, 1000, 200, 20, 10, 1, 10, 10, 10)\n"
     ]
    }
   ],
   "source": [
    "# print(dir(tuple))\n",
    "\n",
    "# 'count', 'index'\n",
    "\n",
    "tpl = 1,10,100,20,10,1,1000,200,20,10,1,10,10,10\n",
    "# print(tpl.count(1))\n",
    "# print(tpl.index(10))\n",
    "\n",
    "# Remove first occurence of 100\n",
    "lst = list(tpl)\n",
    "# print(lst)\n",
    "\n",
    "lst.remove(100)\n",
    "out_tpl = tuple(lst)\n",
    "print(out_tpl)"
   ]
  },
  {
   "cell_type": "code",
   "execution_count": 98,
   "metadata": {},
   "outputs": [
    {
     "ename": "ValueError",
     "evalue": "not enough values to unpack (expected 7, got 6)",
     "output_type": "error",
     "traceback": [
      "\u001b[0;31m---------------------------------------------------------------------------\u001b[0m",
      "\u001b[0;31mValueError\u001b[0m                                Traceback (most recent call last)",
      "\u001b[0;32m<ipython-input-98-8f202f845044>\u001b[0m in \u001b[0;36m<module>\u001b[0;34m\u001b[0m\n\u001b[1;32m     11\u001b[0m \u001b[0;31m# Tuple unpacking - unpcking a tuple into multiple variables\u001b[0m\u001b[0;34m\u001b[0m\u001b[0;34m\u001b[0m\u001b[0;34m\u001b[0m\u001b[0m\n\u001b[1;32m     12\u001b[0m \u001b[0;31m# tpl = 1,10,100,20,10,1\u001b[0m\u001b[0;34m\u001b[0m\u001b[0;34m\u001b[0m\u001b[0;34m\u001b[0m\u001b[0m\n\u001b[0;32m---> 13\u001b[0;31m \u001b[0ma\u001b[0m\u001b[0;34m,\u001b[0m\u001b[0mb\u001b[0m\u001b[0;34m,\u001b[0m\u001b[0mc\u001b[0m\u001b[0;34m,\u001b[0m\u001b[0md\u001b[0m\u001b[0;34m,\u001b[0m\u001b[0me\u001b[0m\u001b[0;34m,\u001b[0m\u001b[0mf\u001b[0m\u001b[0;34m,\u001b[0m\u001b[0mg\u001b[0m \u001b[0;34m=\u001b[0m \u001b[0mtpl\u001b[0m\u001b[0;34m\u001b[0m\u001b[0;34m\u001b[0m\u001b[0m\n\u001b[0m\u001b[1;32m     14\u001b[0m \u001b[0;31m# print(a)\u001b[0m\u001b[0;34m\u001b[0m\u001b[0;34m\u001b[0m\u001b[0;34m\u001b[0m\u001b[0m\n\u001b[1;32m     15\u001b[0m \u001b[0;31m# print(b)\u001b[0m\u001b[0;34m\u001b[0m\u001b[0;34m\u001b[0m\u001b[0;34m\u001b[0m\u001b[0m\n",
      "\u001b[0;31mValueError\u001b[0m: not enough values to unpack (expected 7, got 6)"
     ]
    }
   ],
   "source": [
    "# Tuple packing and unpacking\n",
    "# Tuple packing - packing multiple values into a single variable\n",
    "# a = 10\n",
    "# b = 20\n",
    "# c = 30\n",
    "# d = 40\n",
    "# tpl = a,b,c,d\n",
    "# print(tpl)\n",
    "\n",
    "\n",
    "# Tuple unpacking - unpcking a tuple into multiple variables\n",
    "# tpl = 1,10,100,20,10,1\n",
    "# a,b,c,d,e,f,g = tpl\n",
    "# print(a)\n",
    "# print(b)\n",
    "# print(c)\n",
    "# print(d)\n",
    "# print(e)\n",
    "# print(f)\n"
   ]
  },
  {
   "cell_type": "code",
   "execution_count": 99,
   "metadata": {},
   "outputs": [
    {
     "name": "stdout",
     "output_type": "stream",
     "text": [
      "['__class__', '__contains__', '__delattr__', '__delitem__', '__dir__', '__doc__', '__eq__', '__format__', '__ge__', '__getattribute__', '__getitem__', '__gt__', '__hash__', '__init__', '__init_subclass__', '__iter__', '__le__', '__len__', '__lt__', '__ne__', '__new__', '__reduce__', '__reduce_ex__', '__repr__', '__setattr__', '__setitem__', '__sizeof__', '__str__', '__subclasshook__', 'clear', 'copy', 'fromkeys', 'get', 'items', 'keys', 'pop', 'popitem', 'setdefault', 'update', 'values']\n"
     ]
    }
   ],
   "source": [
    "# Dictionary - methods\n",
    "# print(dir(dict))\n",
    "\n",
    "# 'fromkeys',  \n",
    "\n",
    "\n"
   ]
  },
  {
   "cell_type": "code",
   "execution_count": 1,
   "metadata": {},
   "outputs": [
    {
     "name": "stdout",
     "output_type": "stream",
     "text": [
      "P\n"
     ]
    }
   ],
   "source": [
    "d = {1:100, 2.3:200, 10+20j:300, 'a': 'Python', (10,20,30):[100,200,300]}\n",
    "# d = {1:100, 2.3:200, 10+20j:300, 'a': 'Python', (10,20,30):[100,200,300], 1:10000}\n",
    "# print(d)\n",
    "\n",
    "# d[1] = 11111\n",
    "# print(d)\n",
    "\n",
    "# print(d['a'])\n",
    "# print(d['b'])\n",
    "\n",
    "# 'get', 'setdefault', 'update',\n",
    "# print(d.get('a'))  # If ket is available it will give the value\n",
    "# print(d.get('b'))  # If ket is not available it will give the None\n",
    "# print(d)\n",
    "# print(d.get('c', 'This key is not present')) \n",
    "# print(d)\n",
    "\n",
    "\n",
    "# print(d.setdefault('a'))\n",
    "# print(d.setdefault('b'))\n",
    "# print(d)\n",
    "# print(d.setdefault('c', 10000))\n",
    "# print(d)\n",
    "\n",
    "d1 = {11:1111, 22:2222, 33:3333}\n",
    "d2 = {}\n",
    "# print(d+d1)\n",
    "# updating d with d1\n",
    "# d.update(d1)\n",
    "# print(d)\n",
    "# print(d1)\n",
    "# print(d2.update(d))\n",
    "# print(d2.update(d1))\n",
    "# print(d2)\n",
    "\n",
    "\n",
    "print(d['a'][0])"
   ]
  },
  {
   "cell_type": "code",
   "execution_count": 121,
   "metadata": {},
   "outputs": [],
   "source": [
    "# 'clear', 'copy', \n",
    "# d.clear()\n",
    "# print(d)\n",
    "\n",
    "# d1 = d.copy()   # shallow copy of dictionary\n",
    "# print(d1 is d)\n"
   ]
  },
  {
   "cell_type": "code",
   "execution_count": 9,
   "metadata": {},
   "outputs": [
    {
     "name": "stdout",
     "output_type": "stream",
     "text": [
      "<class 'dict_items'>\n",
      "{1: 100, 2.3: 200, (10+20j): 300, 'a': 'Python', (10, 20, 30): [100, 200, 300]}\n",
      "{1: 100, 2.3: 200, (10+20j): 300, 'a': 'Python', (10, 20, 30): [100, 200, 300], 10: 10000}\n",
      "{0: 'P', 1: 'y', 2: 't', 3: 'h', 4: 'o', 5: 'n'}\n"
     ]
    },
    {
     "data": {
      "text/plain": [
       "{1: 100, 2: 200, 3: 300}"
      ]
     },
     "execution_count": 9,
     "metadata": {},
     "output_type": "execute_result"
    }
   ],
   "source": [
    "#  'items', 'keys', 'values'\n",
    "\n",
    "print(type(d.items()))\n",
    "\n",
    "# print(dir(d.items()))\n",
    "\n",
    "print(d)\n",
    "d_it = list(d.items())\n",
    "d_it.append((10,10000))\n",
    "# print(d_it)\n",
    "\n",
    "print(dict(d_it))\n",
    "# for i in d.items():\n",
    "#     print(i)\n",
    "\n",
    "\n",
    "# print(d.keys())\n",
    "\n",
    "# print(d.values())\n",
    "\n",
    "lst = 'Python'\n",
    "print(dict(list(enumerate(lst))))\n",
    "dict([(1,100),(2,200),(3,300)])\n"
   ]
  },
  {
   "cell_type": "code",
   "execution_count": 9,
   "metadata": {},
   "outputs": [
    {
     "ename": "KeyError",
     "evalue": "'popitem(): dictionary is empty'",
     "output_type": "error",
     "traceback": [
      "\u001b[0;31m---------------------------------------------------------------------------\u001b[0m",
      "\u001b[0;31mKeyError\u001b[0m                                  Traceback (most recent call last)",
      "\u001b[0;32m<ipython-input-9-c50cc3ff043e>\u001b[0m in \u001b[0;36m<module>\u001b[0;34m\u001b[0m\n\u001b[1;32m      3\u001b[0m \u001b[0;31m# print(d)\u001b[0m\u001b[0;34m\u001b[0m\u001b[0;34m\u001b[0m\u001b[0;34m\u001b[0m\u001b[0m\n\u001b[1;32m      4\u001b[0m \u001b[0;34m\u001b[0m\u001b[0m\n\u001b[0;32m----> 5\u001b[0;31m \u001b[0mprint\u001b[0m\u001b[0;34m(\u001b[0m\u001b[0md\u001b[0m\u001b[0;34m.\u001b[0m\u001b[0mpopitem\u001b[0m\u001b[0;34m(\u001b[0m\u001b[0;34m)\u001b[0m\u001b[0;34m)\u001b[0m  \u001b[0;31m# Removes the random element from the dictioanry\u001b[0m\u001b[0;34m\u001b[0m\u001b[0;34m\u001b[0m\u001b[0m\n\u001b[0m",
      "\u001b[0;31mKeyError\u001b[0m: 'popitem(): dictionary is empty'"
     ]
    }
   ],
   "source": [
    "#  'pop', 'popitem', \n",
    "# print(d.pop(2.3, 'This key os not present'))\n",
    "# print(d)\n",
    "\n",
    "print(d.popitem())  # Removes the random element from the dictioanry\n"
   ]
  },
  {
   "cell_type": "code",
   "execution_count": 11,
   "metadata": {},
   "outputs": [
    {
     "data": {
      "text/plain": [
       "{1: 1000, 2: 1000, 3: 1000, 4: 1000}"
      ]
     },
     "execution_count": 11,
     "metadata": {},
     "output_type": "execute_result"
    }
   ],
   "source": [
    "# 'fromkeys',  \n",
    "\n",
    "# d4 = {}\n",
    "\n",
    "# d4.fromkeys([1,2,3,4], 1000)"
   ]
  },
  {
   "cell_type": "code",
   "execution_count": null,
   "metadata": {},
   "outputs": [],
   "source": []
  },
  {
   "cell_type": "code",
   "execution_count": null,
   "metadata": {},
   "outputs": [],
   "source": []
  },
  {
   "cell_type": "code",
   "execution_count": null,
   "metadata": {},
   "outputs": [],
   "source": []
  }
 ],
 "metadata": {
  "kernelspec": {
   "display_name": "Python 3",
   "language": "python",
   "name": "python3"
  },
  "language_info": {
   "codemirror_mode": {
    "name": "ipython",
    "version": 3
   },
   "file_extension": ".py",
   "mimetype": "text/x-python",
   "name": "python",
   "nbconvert_exporter": "python",
   "pygments_lexer": "ipython3",
   "version": "3.7.3"
  }
 },
 "nbformat": 4,
 "nbformat_minor": 2
}
